{
 "cells": [
  {
   "cell_type": "markdown",
   "metadata": {},
   "source": [
    "# TP2 - DB Normalization and Querying\n",
    "\n",
    "The objectives of this TP are:\n",
    "1. Apply normalization 1NF -> 2NF -> 3NF\n",
    "2. Perform SQL queries on the normalized database\n",
    "\n",
    "In this TP, we will use a database **`wine.db`** (available in the course's website) containing wine information related to 'production' and 'sales'. \n",
    "\n",
    "> Production <---> Wine <---> Sales\n",
    "\n",
    "\n",
    "---\n",
    "\n",
    "### Working with db files in Jupyter\n",
    "- Python provides an interface for SQLite through the *sqlite3* module\n",
    "- The **`%%sql`** magic builds upon it (and other tools) to enable the usage of SQL commands within a Jupyter Notebook as in common SQL clients.\n",
    "- Before proceeding, make sure that **`wine.db`** is in the same path as this notebook.\n",
    "  - If **`wine.db`** is not in the same path, an empty **`wine.db`** file will be created, resulting in errors in later steps of the TP.\n",
    "- The SQLite module in Python commits transactions automatically, this means that any change in the DB is immediately written to the file, e.g. creating/deleting tables.\n",
    "  -  For this reason, it is recommended to have a backup of **`wine.db`** as it is provided in the course's website.\n",
    "\n",
    "---"
   ]
  },
  {
   "cell_type": "markdown",
   "metadata": {},
   "source": [
    "**`wine.db`** contains the following unnormalized tables:\n",
    "\n",
    "<center>**Master1**</center>\n",
    "\n",
    "|*Attribute*|         *Description*          |\n",
    "| -------   |--------------------------------|\n",
    "| NV        | Wine number                    |\n",
    "| CRU       | Vineyard or group of vineyards |\n",
    "| DEGRE     | Alcohol content                |\n",
    "| MILL      | Vintage year                   |\n",
    "| QTE       | Number of bottles harvested    |\n",
    "| NP        | Producer number                |\n",
    "| NOM       | Producer's last name           |\n",
    "| PRENOM    | Producer's first name          |\n",
    "| REGION    | Production region              |\n",
    "\n",
    "From wikipedia:\n",
    "\n",
    "__Cru__: Often used to indicate a specifically named and legally defined vineyard or ensemble of vineyards and the vines \"which grow on [such] a reputed terroir; by extension of good quality.\" The term is also used to refer to the wine produced from such vines.\n",
    "\n",
    "\n",
    "<center>**Master2**</center>\n",
    "\n",
    "|*Attribute*|                         *Description*                  |\n",
    "| -------   |--------------------------------------------------------|\n",
    "| NV        | Wine number                                            |\n",
    "| CRU       | Vineyard or group of vineyards                         |\n",
    "| DEGRE     | Alcohol content                                        |\n",
    "| MILL      | Vintage year                                           |\n",
    "| DATES     | Buying date                                            |\n",
    "| LIEU      | Place where the wine was sold                          |\n",
    "| QTE       | Number of bottles bought                               |\n",
    "| NB        | Client (buveur) number                                 |\n",
    "| NOM       | Client's last name                                     |\n",
    "| PRENOM    | Client's first name                                    |\n",
    "| TYPE      | Type of client by volume of purchases                  |\n",
    "| REGION    | Administrative Region (different to production region) |\n"
   ]
  },
  {
   "cell_type": "code",
   "execution_count": 82,
   "metadata": {},
   "outputs": [],
   "source": [
    "import sqlite3    # Python interface for SQLite databases\n",
    "from IPython.utils.traitlets import Bool, Int, Unicode"
   ]
  },
  {
   "cell_type": "code",
   "execution_count": 83,
   "metadata": {},
   "outputs": [],
   "source": [
    "def printSchema(connection):\n",
    "    # Function to print the DB schema\n",
    "    # Source: http://stackoverflow.com/a/35092773/4765776\n",
    "    for (tableName,) in connection.execute(\n",
    "        \"\"\"\n",
    "        select NAME from SQLITE_MASTER where TYPE='table' order by NAME;\n",
    "        \"\"\"\n",
    "    ):\n",
    "        print(\"{}:\".format(tableName))\n",
    "        for (\n",
    "            columnID, columnName, columnType,\n",
    "            columnNotNull, columnDefault, columnPK,\n",
    "        ) in connection.execute(\"pragma table_info('{}');\".format(tableName)):\n",
    "            print(\"  {id}: {name}({type}){null}{default}{pk}\".format(\n",
    "                id=columnID,\n",
    "                name=columnName,\n",
    "                type=columnType,\n",
    "                null=\" not null\" if columnNotNull else \"\",\n",
    "                default=\" [{}]\".format(columnDefault) if columnDefault else \"\",\n",
    "                pk=\" *{}\".format(columnPK) if columnPK else \"\",\n",
    "            ))"
   ]
  },
  {
   "cell_type": "code",
   "execution_count": 84,
   "metadata": {},
   "outputs": [
    {
     "name": "stdout",
     "output_type": "stream",
     "text": [
      "Database schema:\n",
      "MASTER1:\n",
      "  0: NV(NUM)\n",
      "  1: CRU(TEXT)\n",
      "  2: DEGRE(NUM)\n",
      "  3: MILL(NUM)\n",
      "  4: QTE(NUM)\n",
      "  5: NP(NUM)\n",
      "  6: NOM(TEXT)\n",
      "  7: PRENOM(TEXT)\n",
      "  8: REGION(TEXT)\n",
      "MASTER2:\n",
      "  0: NV(NUM)\n",
      "  1: CRU(TEXT)\n",
      "  2: DEGRE(NUM)\n",
      "  3: MILL(NUM)\n",
      "  4: DATES(DATE)\n",
      "  5: LIEU(TEXT)\n",
      "  6: QTE(NUM)\n",
      "  7: NB(NUM)\n",
      "  8: NOM(TEXT)\n",
      "  9: PRENOM(TEXT)\n",
      "  10: TYPE(TEXT)\n",
      "  11: REGION(TEXT)\n",
      "NB_MASTER2:\n",
      "  0: NB(NUM)\n",
      "  1: NOM(TEXT)\n",
      "  2: PRENOM(TEXT)\n",
      "  3: TYPE(TEXT)\n",
      "NP_MASTER1:\n",
      "  0: NP(NUM)\n",
      "  1: NOM(TEXT)\n",
      "  2: PRENOM(TEXT)\n",
      "  3: REGION(TEXT)\n",
      "NV_MASTER1:\n",
      "  0: NV(NUM)\n",
      "  1: CRU(TEXT)\n",
      "  2: DEGRE(NUM)\n",
      "  3: MILL(NUM)\n",
      "NV_MASTER2:\n",
      "  0: NV(NUM)\n",
      "  1: CRU(TEXT)\n",
      "  2: DEGRE(NUM)\n",
      "  3: MILL(NUM)\n",
      "NV_NB_DATES_MASTER2:\n",
      "  0: NV(NUM)\n",
      "  1: NB(NUM)\n",
      "  2: DATES(NUM)\n",
      "  3: QTE(NUM)\n",
      "  4: LIEU(TEXT)\n",
      "  5: REGION(TEXT)\n",
      "NV_NP_MASTER1:\n",
      "  0: NV(NUM)\n",
      "  1: NP(NUM)\n",
      "  2: QTE(NUM)\n",
      "sqlite_sequence:\n",
      "  0: name()\n",
      "  1: seq()\n"
     ]
    }
   ],
   "source": [
    "conn = sqlite3.connect('wine.db')\n",
    "c = conn.cursor()\n",
    "print(\"Database schema:\")\n",
    "printSchema(conn)           # An usefull way to viualize the content of the database"
   ]
  },
  {
   "cell_type": "markdown",
   "metadata": {},
   "source": [
    "From this point we will use __%%sql__ magic"
   ]
  },
  {
   "cell_type": "code",
   "execution_count": 85,
   "metadata": {},
   "outputs": [
    {
     "data": {
      "text/plain": [
       "'Connected: None@wine.db'"
      ]
     },
     "execution_count": 85,
     "metadata": {},
     "output_type": "execute_result"
    }
   ],
   "source": [
    "%reload_ext sql\n",
    "%sql sqlite:///wine.db"
   ]
  },
  {
   "cell_type": "markdown",
   "metadata": {},
   "source": [
    "# PART I: Database normalization"
   ]
  },
  {
   "cell_type": "markdown",
   "metadata": {},
   "source": [
    "The first task on this TP is the normalization of the wine data. In its current state both tables **Master1** and **Master2** are in the First Normal Form (1NF).\n",
    "\n",
    "By inspecting the content of these tables we can see that multiple tuples have NULL values."
   ]
  },
  {
   "cell_type": "code",
   "execution_count": 86,
   "metadata": {},
   "outputs": [
    {
     "name": "stdout",
     "output_type": "stream",
     "text": [
      "Done.\n"
     ]
    },
    {
     "data": {
      "text/html": [
       "<table>\n",
       "    <tr>\n",
       "        <th>NV</th>\n",
       "        <th>CRU</th>\n",
       "        <th>DEGRE</th>\n",
       "        <th>MILL</th>\n",
       "        <th>QTE</th>\n",
       "        <th>NP</th>\n",
       "        <th>NOM</th>\n",
       "        <th>PRENOM</th>\n",
       "        <th>REGION</th>\n",
       "    </tr>\n",
       "    <tr>\n",
       "        <td>None</td>\n",
       "        <td>None</td>\n",
       "        <td>None</td>\n",
       "        <td>None</td>\n",
       "        <td>None</td>\n",
       "        <td>3</td>\n",
       "        <td>Six</td>\n",
       "        <td>Paul</td>\n",
       "        <td>Alsace</td>\n",
       "    </tr>\n",
       "    <tr>\n",
       "        <td>None</td>\n",
       "        <td>None</td>\n",
       "        <td>None</td>\n",
       "        <td>None</td>\n",
       "        <td>None</td>\n",
       "        <td>6</td>\n",
       "        <td>Marmagne</td>\n",
       "        <td>Bernard</td>\n",
       "        <td>Bourgogne</td>\n",
       "    </tr>\n",
       "    <tr>\n",
       "        <td>None</td>\n",
       "        <td>None</td>\n",
       "        <td>None</td>\n",
       "        <td>None</td>\n",
       "        <td>None</td>\n",
       "        <td>8</td>\n",
       "        <td>Lioger d&#x27;Harduy</td>\n",
       "        <td>Gabriel</td>\n",
       "        <td>Bourgogne</td>\n",
       "    </tr>\n",
       "    <tr>\n",
       "        <td>None</td>\n",
       "        <td>None</td>\n",
       "        <td>None</td>\n",
       "        <td>None</td>\n",
       "        <td>None</td>\n",
       "        <td>16</td>\n",
       "        <td>Barbin</td>\n",
       "        <td>Bernard</td>\n",
       "        <td>Bourgogne</td>\n",
       "    </tr>\n",
       "    <tr>\n",
       "        <td>None</td>\n",
       "        <td>None</td>\n",
       "        <td>None</td>\n",
       "        <td>None</td>\n",
       "        <td>None</td>\n",
       "        <td>17</td>\n",
       "        <td>Faiveley</td>\n",
       "        <td>Guy</td>\n",
       "        <td>Bourgogne</td>\n",
       "    </tr>\n",
       "    <tr>\n",
       "        <td>None</td>\n",
       "        <td>None</td>\n",
       "        <td>None</td>\n",
       "        <td>None</td>\n",
       "        <td>None</td>\n",
       "        <td>18</td>\n",
       "        <td>Tramier</td>\n",
       "        <td>Jean</td>\n",
       "        <td>Bourgogne</td>\n",
       "    </tr>\n",
       "    <tr>\n",
       "        <td>None</td>\n",
       "        <td>None</td>\n",
       "        <td>None</td>\n",
       "        <td>None</td>\n",
       "        <td>None</td>\n",
       "        <td>19</td>\n",
       "        <td>Dupaquier</td>\n",
       "        <td>Roger</td>\n",
       "        <td>Bourgogne</td>\n",
       "    </tr>\n",
       "    <tr>\n",
       "        <td>None</td>\n",
       "        <td>None</td>\n",
       "        <td>None</td>\n",
       "        <td>None</td>\n",
       "        <td>None</td>\n",
       "        <td>20</td>\n",
       "        <td>Lamy</td>\n",
       "        <td>Jean</td>\n",
       "        <td>Bourgogne</td>\n",
       "    </tr>\n",
       "    <tr>\n",
       "        <td>None</td>\n",
       "        <td>None</td>\n",
       "        <td>None</td>\n",
       "        <td>None</td>\n",
       "        <td>None</td>\n",
       "        <td>21</td>\n",
       "        <td>Cornu</td>\n",
       "        <td>Edmond</td>\n",
       "        <td>Bourgogne</td>\n",
       "    </tr>\n",
       "    <tr>\n",
       "        <td>None</td>\n",
       "        <td>None</td>\n",
       "        <td>None</td>\n",
       "        <td>None</td>\n",
       "        <td>None</td>\n",
       "        <td>26</td>\n",
       "        <td>Violot</td>\n",
       "        <td>Gilbert</td>\n",
       "        <td>Bourgogne</td>\n",
       "    </tr>\n",
       "</table>"
      ],
      "text/plain": [
       "[(None, None, None, None, None, 3, 'Six', 'Paul', 'Alsace'),\n",
       " (None, None, None, None, None, 6, 'Marmagne', 'Bernard', 'Bourgogne'),\n",
       " (None, None, None, None, None, 8, \"Lioger d'Harduy\", 'Gabriel', 'Bourgogne'),\n",
       " (None, None, None, None, None, 16, 'Barbin', 'Bernard', 'Bourgogne'),\n",
       " (None, None, None, None, None, 17, 'Faiveley', 'Guy', 'Bourgogne'),\n",
       " (None, None, None, None, None, 18, 'Tramier', 'Jean', 'Bourgogne'),\n",
       " (None, None, None, None, None, 19, 'Dupaquier', 'Roger', 'Bourgogne'),\n",
       " (None, None, None, None, None, 20, 'Lamy', 'Jean', 'Bourgogne'),\n",
       " (None, None, None, None, None, 21, 'Cornu', 'Edmond', 'Bourgogne'),\n",
       " (None, None, None, None, None, 26, 'Violot', 'Gilbert', 'Bourgogne')]"
      ]
     },
     "execution_count": 86,
     "metadata": {},
     "output_type": "execute_result"
    }
   ],
   "source": [
    "%%sql SELECT *\n",
    "FROM Master1\n",
    "LIMIT 10;"
   ]
  },
  {
   "cell_type": "markdown",
   "metadata": {},
   "source": [
    "* Notice that Jupyter *displays* 'None' instead of 'NULL'. \n",
    "  - This is only to comply with python notation.\n",
    "* To account for NULL values, your SQL queries must test explicitly for 'NULL'.\n",
    "\n",
    "Another problem in **Master1** and **Master2** is data redundancy, for example:"
   ]
  },
  {
   "cell_type": "code",
   "execution_count": 87,
   "metadata": {},
   "outputs": [
    {
     "name": "stdout",
     "output_type": "stream",
     "text": [
      "Done.\n"
     ]
    },
    {
     "data": {
      "text/html": [
       "<table>\n",
       "    <tr>\n",
       "        <th>NV</th>\n",
       "        <th>CRU</th>\n",
       "        <th>DEGRE</th>\n",
       "        <th>MILL</th>\n",
       "        <th>QTE</th>\n",
       "        <th>NP</th>\n",
       "        <th>NOM</th>\n",
       "        <th>PRENOM</th>\n",
       "        <th>REGION</th>\n",
       "    </tr>\n",
       "    <tr>\n",
       "        <td>45</td>\n",
       "        <td>Chiroubles</td>\n",
       "        <td>None</td>\n",
       "        <td>1983</td>\n",
       "        <td>90</td>\n",
       "        <td>2</td>\n",
       "        <td>Boxler</td>\n",
       "        <td>Albert</td>\n",
       "        <td>Alsace</td>\n",
       "    </tr>\n",
       "    <tr>\n",
       "        <td>45</td>\n",
       "        <td>Chiroubles</td>\n",
       "        <td>None</td>\n",
       "        <td>1983</td>\n",
       "        <td>912</td>\n",
       "        <td>67</td>\n",
       "        <td>Descombes</td>\n",
       "        <td>Jean Ernest</td>\n",
       "        <td>Beaujolais</td>\n",
       "    </tr>\n",
       "    <tr>\n",
       "        <td>45</td>\n",
       "        <td>Chiroubles</td>\n",
       "        <td>None</td>\n",
       "        <td>1983</td>\n",
       "        <td>98</td>\n",
       "        <td>71</td>\n",
       "        <td>Chalandard</td>\n",
       "        <td>Danile</td>\n",
       "        <td>Jura</td>\n",
       "    </tr>\n",
       "    <tr>\n",
       "        <td>45</td>\n",
       "        <td>Chiroubles</td>\n",
       "        <td>None</td>\n",
       "        <td>1983</td>\n",
       "        <td>540</td>\n",
       "        <td>78</td>\n",
       "        <td>Michlel</td>\n",
       "        <td>Pierre Emile</td>\n",
       "        <td>Jura</td>\n",
       "    </tr>\n",
       "    <tr>\n",
       "        <td>45</td>\n",
       "        <td>Chiroubles</td>\n",
       "        <td>None</td>\n",
       "        <td>1983</td>\n",
       "        <td>450</td>\n",
       "        <td>86</td>\n",
       "        <td>Dumazet</td>\n",
       "        <td>Marc</td>\n",
       "        <td>Rhone</td>\n",
       "    </tr>\n",
       "</table>"
      ],
      "text/plain": [
       "[(45, 'Chiroubles', None, 1983, 90, 2, 'Boxler', 'Albert', 'Alsace'),\n",
       " (45, 'Chiroubles', None, 1983, 912, 67, 'Descombes', 'Jean Ernest', 'Beaujolais'),\n",
       " (45, 'Chiroubles', None, 1983, 98, 71, 'Chalandard', 'Danile', 'Jura'),\n",
       " (45, 'Chiroubles', None, 1983, 540, 78, 'Michlel', 'Pierre Emile', 'Jura'),\n",
       " (45, 'Chiroubles', None, 1983, 450, 86, 'Dumazet', 'Marc', 'Rhone')]"
      ]
     },
     "execution_count": 87,
     "metadata": {},
     "output_type": "execute_result"
    }
   ],
   "source": [
    "%%sql SELECT *\n",
    "FROM Master1\n",
    "WHERE NV = 45;"
   ]
  },
  {
   "cell_type": "markdown",
   "metadata": {},
   "source": [
    "---\n",
    "\n",
    "Additional resource for Normalization:\n",
    "\n",
    "https://www.youtube.com/watch?v=UrYLYV7WSHM\n",
    "\n",
    "---"
   ]
  },
  {
   "cell_type": "markdown",
   "metadata": {},
   "source": [
    "#### Exercise 1.1\n",
    "\n",
    "Convert table **Master1** to the Second Normal Form (2NF) or Third Normal Form (3NF) as applicable.\n",
    "* Explain your answer\n",
    "* List main functional dependencies (not all of them)\n",
    "* Describe the schema of new tables and how they relate\n",
    "  * You can write Tables as above or you can insert images in the notebook.\n",
    "  \n",
    "Remember that **`wine.db`** contains information related to wine 'production' and 'sells'.\n",
    "\n",
    "> Production <---> Wine <---> Sales\n",
    "\n",
    "A good start point is to look for the 'Wine' attributes.\n",
    "\n",
    "**Hint:** Look for redundant information between the master tables."
   ]
  },
  {
   "cell_type": "raw",
   "metadata": {},
   "source": [
    "We want to convert the table Master 1 to the Second Normal Form\n",
    "To do this, we are going to determine the main functional dependencies:\n",
    "(NV, NP) -> QTE\n",
    "NV -> (CRU, DEGRE, MILL)\n",
    "NP -> (NOM, PRENOM, REGION)\n",
    "\n",
    "1st sub table R(NV, CRU, DEGRE, MILL) : key=NV\n",
    "2nd sub talbe R(NP, NOM, PRENOM, REGION) : key=NP\n",
    "3rd sub table R(NV, NP, QTE): key=(NV,NP)"
   ]
  },
  {
   "cell_type": "markdown",
   "metadata": {},
   "source": [
    "First Sub-Table of Master1:"
   ]
  },
  {
   "cell_type": "code",
   "execution_count": 88,
   "metadata": {
    "scrolled": false
   },
   "outputs": [
    {
     "name": "stdout",
     "output_type": "stream",
     "text": [
      "Done.\n"
     ]
    },
    {
     "data": {
      "text/html": [
       "<table>\n",
       "    <tr>\n",
       "        <th>NV</th>\n",
       "        <th>NP</th>\n",
       "        <th>QTE</th>\n",
       "    </tr>\n",
       "    <tr>\n",
       "        <td>1</td>\n",
       "        <td>1</td>\n",
       "        <td>300</td>\n",
       "    </tr>\n",
       "    <tr>\n",
       "        <td>1</td>\n",
       "        <td>73</td>\n",
       "        <td>1</td>\n",
       "    </tr>\n",
       "    <tr>\n",
       "        <td>2</td>\n",
       "        <td>5</td>\n",
       "        <td>100</td>\n",
       "    </tr>\n",
       "    <tr>\n",
       "        <td>3</td>\n",
       "        <td>1</td>\n",
       "        <td>400</td>\n",
       "    </tr>\n",
       "    <tr>\n",
       "        <td>4</td>\n",
       "        <td>10</td>\n",
       "        <td>35</td>\n",
       "    </tr>\n",
       "</table>"
      ],
      "text/plain": [
       "[(1, 1, 300), (1, 73, 1), (2, 5, 100), (3, 1, 400), (4, 10, 35)]"
      ]
     },
     "execution_count": 88,
     "metadata": {},
     "output_type": "execute_result"
    }
   ],
   "source": [
    "%sql SELECT NV, NP, QTE FROM Master1 WHERE NV!='None' AND NP!='None' LIMIT 5;"
   ]
  },
  {
   "cell_type": "markdown",
   "metadata": {},
   "source": [
    "Second Sub-Table of Master1:"
   ]
  },
  {
   "cell_type": "code",
   "execution_count": 89,
   "metadata": {},
   "outputs": [
    {
     "name": "stdout",
     "output_type": "stream",
     "text": [
      "Done.\n"
     ]
    },
    {
     "data": {
      "text/html": [
       "<table>\n",
       "    <tr>\n",
       "        <th>NV</th>\n",
       "        <th>CRU</th>\n",
       "        <th>DEGRE</th>\n",
       "        <th>MILL</th>\n",
       "    </tr>\n",
       "    <tr>\n",
       "        <td>1</td>\n",
       "        <td>Mercurey</td>\n",
       "        <td>11.5</td>\n",
       "        <td>1980</td>\n",
       "    </tr>\n",
       "    <tr>\n",
       "        <td>1</td>\n",
       "        <td>Mercurey</td>\n",
       "        <td>11.5</td>\n",
       "        <td>1980</td>\n",
       "    </tr>\n",
       "    <tr>\n",
       "        <td>2</td>\n",
       "        <td>Julienas</td>\n",
       "        <td>11.3</td>\n",
       "        <td>1974</td>\n",
       "    </tr>\n",
       "    <tr>\n",
       "        <td>3</td>\n",
       "        <td>Savigny les Beaunes</td>\n",
       "        <td>12.1</td>\n",
       "        <td>1978</td>\n",
       "    </tr>\n",
       "    <tr>\n",
       "        <td>4</td>\n",
       "        <td>Mercurey</td>\n",
       "        <td>10.9</td>\n",
       "        <td>1980</td>\n",
       "    </tr>\n",
       "</table>"
      ],
      "text/plain": [
       "[(1, 'Mercurey', 11.5, 1980),\n",
       " (1, 'Mercurey', 11.5, 1980),\n",
       " (2, 'Julienas', 11.3, 1974),\n",
       " (3, 'Savigny les Beaunes', 12.1, 1978),\n",
       " (4, 'Mercurey', 10.9, 1980)]"
      ]
     },
     "execution_count": 89,
     "metadata": {},
     "output_type": "execute_result"
    }
   ],
   "source": [
    "%sql SELECT NV, CRU, DEGRE, MILL FROM Master1 WHERE NV!='None' LIMIT 5;"
   ]
  },
  {
   "cell_type": "markdown",
   "metadata": {},
   "source": [
    "Third Sub-Table of Master1:"
   ]
  },
  {
   "cell_type": "code",
   "execution_count": 90,
   "metadata": {},
   "outputs": [
    {
     "name": "stdout",
     "output_type": "stream",
     "text": [
      "Done.\n"
     ]
    },
    {
     "data": {
      "text/html": [
       "<table>\n",
       "    <tr>\n",
       "        <th>NP</th>\n",
       "        <th>NOM</th>\n",
       "        <th>PRENOM</th>\n",
       "        <th>REGION</th>\n",
       "    </tr>\n",
       "    <tr>\n",
       "        <td>3</td>\n",
       "        <td>Six</td>\n",
       "        <td>Paul</td>\n",
       "        <td>Alsace</td>\n",
       "    </tr>\n",
       "    <tr>\n",
       "        <td>6</td>\n",
       "        <td>Marmagne</td>\n",
       "        <td>Bernard</td>\n",
       "        <td>Bourgogne</td>\n",
       "    </tr>\n",
       "    <tr>\n",
       "        <td>8</td>\n",
       "        <td>Lioger d&#x27;Harduy</td>\n",
       "        <td>Gabriel</td>\n",
       "        <td>Bourgogne</td>\n",
       "    </tr>\n",
       "    <tr>\n",
       "        <td>16</td>\n",
       "        <td>Barbin</td>\n",
       "        <td>Bernard</td>\n",
       "        <td>Bourgogne</td>\n",
       "    </tr>\n",
       "    <tr>\n",
       "        <td>17</td>\n",
       "        <td>Faiveley</td>\n",
       "        <td>Guy</td>\n",
       "        <td>Bourgogne</td>\n",
       "    </tr>\n",
       "</table>"
      ],
      "text/plain": [
       "[(3, 'Six', 'Paul', 'Alsace'),\n",
       " (6, 'Marmagne', 'Bernard', 'Bourgogne'),\n",
       " (8, \"Lioger d'Harduy\", 'Gabriel', 'Bourgogne'),\n",
       " (16, 'Barbin', 'Bernard', 'Bourgogne'),\n",
       " (17, 'Faiveley', 'Guy', 'Bourgogne')]"
      ]
     },
     "execution_count": 90,
     "metadata": {},
     "output_type": "execute_result"
    }
   ],
   "source": [
    "%sql SELECT NP, NOM, PRENOM, REGION FROM Master1 WHERE NP!='None' LIMIT 5;"
   ]
  },
  {
   "cell_type": "markdown",
   "metadata": {},
   "source": [
    "#### Exercise 1.2\n",
    "\n",
    "Convert table **Master2** to the Second Normal Form (2NF) or Third Normal Form (3NF) as applicable.\n",
    "* Explain your answer\n",
    "* List main functional dependencies (not all of them)\n",
    "* Describe the schema of new tables and how they relate\n",
    "  * You can write Tables as above or you can insert images in the notebook.\n",
    "\n",
    "**Note:** For this part, consider that a wine can be bought in multiple locations and multiple times per day."
   ]
  },
  {
   "cell_type": "raw",
   "metadata": {},
   "source": [
    "We want to convert the table Master 2 to the Second Normal Form.\n",
    "To do this, we are going to determine the main functional dependencies:\n",
    "NV -> (CRU, DEGRE, MILL)\n",
    "NB -> (NOM, PRENOM, TYPE) : 2ème sous table\n",
    "(NV, NB, DATES) -> (QTE, LIEU, REGION) : 3ème sous table\n",
    "\n",
    "1st sub table R(NV, CRU, DEGRE, MILL) : key=NV\n",
    "2nd sub talbe R(NB, NOM, PRENOM, TYPE) : key=NB\n",
    "3rd sub table R(NV, NB, DATES, QTE, LIEU, REGION): key=(NV,NB,DATES)"
   ]
  },
  {
   "cell_type": "markdown",
   "metadata": {},
   "source": [
    "Once you have defined the 2NF or 3NF (as applicable) we need to split the data into new tables.\n",
    "\n",
    "A table can be created from the result of a query.\n",
    "\n",
    "In the following example we will create a new table \"dummy\" to store the different values of alcohol content."
   ]
  },
  {
   "cell_type": "code",
   "execution_count": 91,
   "metadata": {},
   "outputs": [
    {
     "name": "stdout",
     "output_type": "stream",
     "text": [
      "Done.\n",
      "Done.\n"
     ]
    },
    {
     "data": {
      "text/plain": [
       "[]"
      ]
     },
     "execution_count": 91,
     "metadata": {},
     "output_type": "execute_result"
    }
   ],
   "source": [
    "%%sql DROP TABLE IF EXISTS dummy;\n",
    "\n",
    "-- Create dummy table\n",
    "CREATE TABLE dummy AS\n",
    "SELECT DISTINCT DEGRE\n",
    "FROM MASTER1;"
   ]
  },
  {
   "cell_type": "code",
   "execution_count": 92,
   "metadata": {},
   "outputs": [
    {
     "name": "stdout",
     "output_type": "stream",
     "text": [
      "\n",
      "Content of the database\n",
      "MASTER1:\n",
      "  0: NV(NUM)\n",
      "  1: CRU(TEXT)\n",
      "  2: DEGRE(NUM)\n",
      "  3: MILL(NUM)\n",
      "  4: QTE(NUM)\n",
      "  5: NP(NUM)\n",
      "  6: NOM(TEXT)\n",
      "  7: PRENOM(TEXT)\n",
      "  8: REGION(TEXT)\n",
      "MASTER2:\n",
      "  0: NV(NUM)\n",
      "  1: CRU(TEXT)\n",
      "  2: DEGRE(NUM)\n",
      "  3: MILL(NUM)\n",
      "  4: DATES(DATE)\n",
      "  5: LIEU(TEXT)\n",
      "  6: QTE(NUM)\n",
      "  7: NB(NUM)\n",
      "  8: NOM(TEXT)\n",
      "  9: PRENOM(TEXT)\n",
      "  10: TYPE(TEXT)\n",
      "  11: REGION(TEXT)\n",
      "NB_MASTER2:\n",
      "  0: NB(NUM)\n",
      "  1: NOM(TEXT)\n",
      "  2: PRENOM(TEXT)\n",
      "  3: TYPE(TEXT)\n",
      "NP_MASTER1:\n",
      "  0: NP(NUM)\n",
      "  1: NOM(TEXT)\n",
      "  2: PRENOM(TEXT)\n",
      "  3: REGION(TEXT)\n",
      "NV_MASTER1:\n",
      "  0: NV(NUM)\n",
      "  1: CRU(TEXT)\n",
      "  2: DEGRE(NUM)\n",
      "  3: MILL(NUM)\n",
      "NV_MASTER2:\n",
      "  0: NV(NUM)\n",
      "  1: CRU(TEXT)\n",
      "  2: DEGRE(NUM)\n",
      "  3: MILL(NUM)\n",
      "NV_NB_DATES_MASTER2:\n",
      "  0: NV(NUM)\n",
      "  1: NB(NUM)\n",
      "  2: DATES(NUM)\n",
      "  3: QTE(NUM)\n",
      "  4: LIEU(TEXT)\n",
      "  5: REGION(TEXT)\n",
      "NV_NP_MASTER1:\n",
      "  0: NV(NUM)\n",
      "  1: NP(NUM)\n",
      "  2: QTE(NUM)\n",
      "dummy:\n",
      "  0: DEGRE(NUM)\n",
      "sqlite_sequence:\n",
      "  0: name()\n",
      "  1: seq()\n"
     ]
    }
   ],
   "source": [
    "print(\"\\nContent of the database\")\n",
    "printSchema(conn)"
   ]
  },
  {
   "cell_type": "code",
   "execution_count": 93,
   "metadata": {},
   "outputs": [
    {
     "name": "stdout",
     "output_type": "stream",
     "text": [
      "Done.\n"
     ]
    },
    {
     "data": {
      "text/html": [
       "<table>\n",
       "    <tr>\n",
       "        <th>DEGRE</th>\n",
       "    </tr>\n",
       "    <tr>\n",
       "        <td>None</td>\n",
       "    </tr>\n",
       "    <tr>\n",
       "        <td>11.5</td>\n",
       "    </tr>\n",
       "    <tr>\n",
       "        <td>11.3</td>\n",
       "    </tr>\n",
       "    <tr>\n",
       "        <td>12.1</td>\n",
       "    </tr>\n",
       "    <tr>\n",
       "        <td>10.9</td>\n",
       "    </tr>\n",
       "</table>"
      ],
      "text/plain": [
       "[(None,), (11.5,), (11.3,), (12.1,), (10.9,)]"
      ]
     },
     "execution_count": 93,
     "metadata": {},
     "output_type": "execute_result"
    }
   ],
   "source": [
    "%%sql\n",
    "SELECT *\n",
    "FROM dummy\n",
    "LIMIT 5;"
   ]
  },
  {
   "cell_type": "markdown",
   "metadata": {},
   "source": [
    "Looking into \"dummy\", we notice that our query includes NULL. This is not allowed if we were to use DEGRE as key for a table.\n",
    "\n",
    "To correct this, we need to change the query to explicitly test for NULL as follows:"
   ]
  },
  {
   "cell_type": "code",
   "execution_count": 94,
   "metadata": {},
   "outputs": [
    {
     "name": "stdout",
     "output_type": "stream",
     "text": [
      "Done.\n",
      "Done.\n",
      "Done.\n"
     ]
    },
    {
     "data": {
      "text/html": [
       "<table>\n",
       "    <tr>\n",
       "        <th>DEGRE</th>\n",
       "    </tr>\n",
       "    <tr>\n",
       "        <td>11.5</td>\n",
       "    </tr>\n",
       "    <tr>\n",
       "        <td>11.3</td>\n",
       "    </tr>\n",
       "    <tr>\n",
       "        <td>12.1</td>\n",
       "    </tr>\n",
       "    <tr>\n",
       "        <td>10.9</td>\n",
       "    </tr>\n",
       "    <tr>\n",
       "        <td>11.7</td>\n",
       "    </tr>\n",
       "    <tr>\n",
       "        <td>11.2</td>\n",
       "    </tr>\n",
       "    <tr>\n",
       "        <td>12.3</td>\n",
       "    </tr>\n",
       "    <tr>\n",
       "        <td>11.9</td>\n",
       "    </tr>\n",
       "    <tr>\n",
       "        <td>11.8</td>\n",
       "    </tr>\n",
       "    <tr>\n",
       "        <td>10.7</td>\n",
       "    </tr>\n",
       "    <tr>\n",
       "        <td>11.4</td>\n",
       "    </tr>\n",
       "    <tr>\n",
       "        <td>10.5</td>\n",
       "    </tr>\n",
       "    <tr>\n",
       "        <td>11</td>\n",
       "    </tr>\n",
       "    <tr>\n",
       "        <td>11.6</td>\n",
       "    </tr>\n",
       "    <tr>\n",
       "        <td>12</td>\n",
       "    </tr>\n",
       "    <tr>\n",
       "        <td>10</td>\n",
       "    </tr>\n",
       "    <tr>\n",
       "        <td>12.5</td>\n",
       "    </tr>\n",
       "    <tr>\n",
       "        <td>10.8</td>\n",
       "    </tr>\n",
       "    <tr>\n",
       "        <td>14</td>\n",
       "    </tr>\n",
       "    <tr>\n",
       "        <td>11.1</td>\n",
       "    </tr>\n",
       "    <tr>\n",
       "        <td>13</td>\n",
       "    </tr>\n",
       "</table>"
      ],
      "text/plain": [
       "[(11.5,),\n",
       " (11.3,),\n",
       " (12.1,),\n",
       " (10.9,),\n",
       " (11.7,),\n",
       " (11.2,),\n",
       " (12.3,),\n",
       " (11.9,),\n",
       " (11.8,),\n",
       " (10.7,),\n",
       " (11.4,),\n",
       " (10.5,),\n",
       " (11,),\n",
       " (11.6,),\n",
       " (12,),\n",
       " (10,),\n",
       " (12.5,),\n",
       " (10.8,),\n",
       " (14,),\n",
       " (11.1,),\n",
       " (13,)]"
      ]
     },
     "execution_count": 94,
     "metadata": {},
     "output_type": "execute_result"
    }
   ],
   "source": [
    "%%sql DROP TABLE IF EXISTS dummy;\n",
    "\n",
    "-- Create dummy table\n",
    "CREATE TABLE dummy AS\n",
    "SELECT DISTINCT DEGRE\n",
    "FROM MASTER1\n",
    "WHERE DEGRE IS NOT NULL;\n",
    "\n",
    "SELECT *\n",
    "FROM dummy;"
   ]
  },
  {
   "cell_type": "markdown",
   "metadata": {},
   "source": [
    "Notice that we use `NULL` given that `None` is only used for display."
   ]
  },
  {
   "cell_type": "code",
   "execution_count": 95,
   "metadata": {},
   "outputs": [
    {
     "name": "stdout",
     "output_type": "stream",
     "text": [
      "Done.\n"
     ]
    },
    {
     "data": {
      "text/plain": [
       "[]"
      ]
     },
     "execution_count": 95,
     "metadata": {},
     "output_type": "execute_result"
    }
   ],
   "source": [
    "# Remove \"dummy\" table\n",
    "%sql DROP TABLE IF EXISTS dummy;"
   ]
  },
  {
   "cell_type": "markdown",
   "metadata": {},
   "source": [
    "#### Exercise 1.3\n",
    "\n",
    "Create the new tables from Master1:"
   ]
  },
  {
   "cell_type": "code",
   "execution_count": 96,
   "metadata": {},
   "outputs": [
    {
     "name": "stdout",
     "output_type": "stream",
     "text": [
      "Done.\n",
      "Done.\n",
      "Done.\n"
     ]
    },
    {
     "data": {
      "text/html": [
       "<table>\n",
       "    <tr>\n",
       "        <th>NV</th>\n",
       "        <th>NP</th>\n",
       "        <th>QTE</th>\n",
       "    </tr>\n",
       "    <tr>\n",
       "        <td>1</td>\n",
       "        <td>1</td>\n",
       "        <td>300</td>\n",
       "    </tr>\n",
       "    <tr>\n",
       "        <td>1</td>\n",
       "        <td>73</td>\n",
       "        <td>1</td>\n",
       "    </tr>\n",
       "    <tr>\n",
       "        <td>2</td>\n",
       "        <td>5</td>\n",
       "        <td>100</td>\n",
       "    </tr>\n",
       "    <tr>\n",
       "        <td>3</td>\n",
       "        <td>1</td>\n",
       "        <td>400</td>\n",
       "    </tr>\n",
       "    <tr>\n",
       "        <td>4</td>\n",
       "        <td>10</td>\n",
       "        <td>35</td>\n",
       "    </tr>\n",
       "</table>"
      ],
      "text/plain": [
       "[(1, 1, 300), (1, 73, 1), (2, 5, 100), (3, 1, 400), (4, 10, 35)]"
      ]
     },
     "execution_count": 96,
     "metadata": {},
     "output_type": "execute_result"
    }
   ],
   "source": [
    "%%sql\n",
    "DROP TABLE IF EXISTS NV_NP_MASTER1;\n",
    "\n",
    "--- Create NV_NP_MASTER1 table\n",
    "CREATE TABLE NV_NP_MASTER1 AS\n",
    "SELECT NV, NP, QTE\n",
    "FROM MASTER1\n",
    "WHERE NV IS NOT NULL AND NP IS NOT NULL;\n",
    "\n",
    "SELECT *\n",
    "FROM NV_NP_MASTER1\n",
    "LIMIT 5;"
   ]
  },
  {
   "cell_type": "code",
   "execution_count": 97,
   "metadata": {},
   "outputs": [
    {
     "name": "stdout",
     "output_type": "stream",
     "text": [
      "Done.\n",
      "Done.\n",
      "Done.\n"
     ]
    },
    {
     "data": {
      "text/html": [
       "<table>\n",
       "    <tr>\n",
       "        <th>NV</th>\n",
       "        <th>CRU</th>\n",
       "        <th>DEGRE</th>\n",
       "        <th>MILL</th>\n",
       "    </tr>\n",
       "    <tr>\n",
       "        <td>1</td>\n",
       "        <td>Mercurey</td>\n",
       "        <td>11.5</td>\n",
       "        <td>1980</td>\n",
       "    </tr>\n",
       "    <tr>\n",
       "        <td>2</td>\n",
       "        <td>Julienas</td>\n",
       "        <td>11.3</td>\n",
       "        <td>1974</td>\n",
       "    </tr>\n",
       "    <tr>\n",
       "        <td>3</td>\n",
       "        <td>Savigny les Beaunes</td>\n",
       "        <td>12.1</td>\n",
       "        <td>1978</td>\n",
       "    </tr>\n",
       "    <tr>\n",
       "        <td>4</td>\n",
       "        <td>Mercurey</td>\n",
       "        <td>10.9</td>\n",
       "        <td>1980</td>\n",
       "    </tr>\n",
       "    <tr>\n",
       "        <td>5</td>\n",
       "        <td>Pommard</td>\n",
       "        <td>11.7</td>\n",
       "        <td>1976</td>\n",
       "    </tr>\n",
       "</table>"
      ],
      "text/plain": [
       "[(1, 'Mercurey', 11.5, 1980),\n",
       " (2, 'Julienas', 11.3, 1974),\n",
       " (3, 'Savigny les Beaunes', 12.1, 1978),\n",
       " (4, 'Mercurey', 10.9, 1980),\n",
       " (5, 'Pommard', 11.7, 1976)]"
      ]
     },
     "execution_count": 97,
     "metadata": {},
     "output_type": "execute_result"
    }
   ],
   "source": [
    "%%sql\n",
    "DROP TABLE IF EXISTS NV_MASTER1;\n",
    "\n",
    "--- Create NV_MASTER1 table\n",
    "CREATE TABLE NV_MASTER1 AS\n",
    "SELECT DISTINCT NV, CRU, DEGRE, MILL\n",
    "FROM MASTER1\n",
    "WHERE NV IS NOT NULL;\n",
    "\n",
    "SELECT *\n",
    "FROM NV_MASTER1\n",
    "LIMIT 5;"
   ]
  },
  {
   "cell_type": "code",
   "execution_count": 98,
   "metadata": {},
   "outputs": [
    {
     "name": "stdout",
     "output_type": "stream",
     "text": [
      "Done.\n",
      "Done.\n",
      "Done.\n"
     ]
    },
    {
     "data": {
      "text/html": [
       "<table>\n",
       "    <tr>\n",
       "        <th>NP</th>\n",
       "        <th>NOM</th>\n",
       "        <th>PRENOM</th>\n",
       "        <th>REGION</th>\n",
       "    </tr>\n",
       "    <tr>\n",
       "        <td>3</td>\n",
       "        <td>Six</td>\n",
       "        <td>Paul</td>\n",
       "        <td>Alsace</td>\n",
       "    </tr>\n",
       "    <tr>\n",
       "        <td>6</td>\n",
       "        <td>Marmagne</td>\n",
       "        <td>Bernard</td>\n",
       "        <td>Bourgogne</td>\n",
       "    </tr>\n",
       "    <tr>\n",
       "        <td>8</td>\n",
       "        <td>Lioger d&#x27;Harduy</td>\n",
       "        <td>Gabriel</td>\n",
       "        <td>Bourgogne</td>\n",
       "    </tr>\n",
       "    <tr>\n",
       "        <td>16</td>\n",
       "        <td>Barbin</td>\n",
       "        <td>Bernard</td>\n",
       "        <td>Bourgogne</td>\n",
       "    </tr>\n",
       "    <tr>\n",
       "        <td>17</td>\n",
       "        <td>Faiveley</td>\n",
       "        <td>Guy</td>\n",
       "        <td>Bourgogne</td>\n",
       "    </tr>\n",
       "</table>"
      ],
      "text/plain": [
       "[(3, 'Six', 'Paul', 'Alsace'),\n",
       " (6, 'Marmagne', 'Bernard', 'Bourgogne'),\n",
       " (8, \"Lioger d'Harduy\", 'Gabriel', 'Bourgogne'),\n",
       " (16, 'Barbin', 'Bernard', 'Bourgogne'),\n",
       " (17, 'Faiveley', 'Guy', 'Bourgogne')]"
      ]
     },
     "execution_count": 98,
     "metadata": {},
     "output_type": "execute_result"
    }
   ],
   "source": [
    "%%sql\n",
    "DROP TABLE IF EXISTS NP_MASTER1;\n",
    "\n",
    "--- Create NP_MASTER1 table\n",
    "CREATE TABLE NP_MASTER1 AS\n",
    "SELECT DISTINCT NP, NOM, PRENOM, REGION\n",
    "FROM MASTER1\n",
    "WHERE NP IS NOT NULL;\n",
    "\n",
    "SELECT *\n",
    "FROM NP_MASTER1\n",
    "LIMIT 5;"
   ]
  },
  {
   "cell_type": "markdown",
   "metadata": {},
   "source": [
    "#### Exercise 1.4\n",
    "\n",
    "Create the new tables from Master2:"
   ]
  },
  {
   "cell_type": "code",
   "execution_count": 99,
   "metadata": {},
   "outputs": [
    {
     "name": "stdout",
     "output_type": "stream",
     "text": [
      "Done.\n",
      "Done.\n",
      "Done.\n"
     ]
    },
    {
     "data": {
      "text/html": [
       "<table>\n",
       "    <tr>\n",
       "        <th>NV</th>\n",
       "        <th>NB</th>\n",
       "        <th>DATES</th>\n",
       "        <th>QTE</th>\n",
       "        <th>LIEU</th>\n",
       "        <th>REGION</th>\n",
       "    </tr>\n",
       "    <tr>\n",
       "        <td>1</td>\n",
       "        <td>2</td>\n",
       "        <td>1977-11-02</td>\n",
       "        <td>33</td>\n",
       "        <td>BORDEAUX</td>\n",
       "        <td> NOUVELLE-AQUITAINE</td>\n",
       "    </tr>\n",
       "    <tr>\n",
       "        <td>1</td>\n",
       "        <td>44</td>\n",
       "        <td>2015-10-16</td>\n",
       "        <td>1</td>\n",
       "        <td>PARIS</td>\n",
       "        <td> ÎLE-DE-FRANCE</td>\n",
       "    </tr>\n",
       "    <tr>\n",
       "        <td>1</td>\n",
       "        <td>45</td>\n",
       "        <td>1983-12-31</td>\n",
       "        <td>1</td>\n",
       "        <td>RENNES</td>\n",
       "        <td> BRETAGNE</td>\n",
       "    </tr>\n",
       "    <tr>\n",
       "        <td>2</td>\n",
       "        <td>48</td>\n",
       "        <td>1983-12-25</td>\n",
       "        <td>2</td>\n",
       "        <td>LYON</td>\n",
       "        <td>&nbsp;&nbsp;AUVERGNE-RHÔNE-ALPES</td>\n",
       "    </tr>\n",
       "    <tr>\n",
       "        <td>3</td>\n",
       "        <td>7</td>\n",
       "        <td>1978-11-01</td>\n",
       "        <td>6</td>\n",
       "        <td>NICE</td>\n",
       "        <td> PROVENCE-ALPES-CÔTE D&#x27;AZUR</td>\n",
       "    </tr>\n",
       "</table>"
      ],
      "text/plain": [
       "[(1, 2, '1977-11-02', 33, 'BORDEAUX', ' NOUVELLE-AQUITAINE'),\n",
       " (1, 44, '2015-10-16', 1, 'PARIS', ' ÎLE-DE-FRANCE'),\n",
       " (1, 45, '1983-12-31', 1, 'RENNES', ' BRETAGNE'),\n",
       " (2, 48, '1983-12-25', 2, 'LYON', '  AUVERGNE-RHÔNE-ALPES'),\n",
       " (3, 7, '1978-11-01', 6, 'NICE', \" PROVENCE-ALPES-CÔTE D'AZUR\")]"
      ]
     },
     "execution_count": 99,
     "metadata": {},
     "output_type": "execute_result"
    }
   ],
   "source": [
    "%%sql\n",
    "DROP TABLE IF EXISTS NV_NB_DATES_MASTER2;\n",
    "\n",
    "--- Create NV_NB_DATES_MASTER2 table\n",
    "CREATE TABLE NV_NB_DATES_MASTER2 AS\n",
    "SELECT NV, NB, DATES, QTE, LIEU, REGION\n",
    "FROM MASTER2\n",
    "WHERE NV IS NOT NULL AND NB IS NOT NULL AND DATES IS NOT NULL;\n",
    "\n",
    "SELECT *\n",
    "FROM NV_NB_DATES_MASTER2\n",
    "LIMIT 5;"
   ]
  },
  {
   "cell_type": "code",
   "execution_count": 100,
   "metadata": {},
   "outputs": [
    {
     "name": "stdout",
     "output_type": "stream",
     "text": [
      "Done.\n",
      "Done.\n",
      "Done.\n"
     ]
    },
    {
     "data": {
      "text/html": [
       "<table>\n",
       "    <tr>\n",
       "        <th>NV</th>\n",
       "        <th>CRU</th>\n",
       "        <th>DEGRE</th>\n",
       "        <th>MILL</th>\n",
       "    </tr>\n",
       "    <tr>\n",
       "        <td>1</td>\n",
       "        <td>Mercurey</td>\n",
       "        <td>11.5</td>\n",
       "        <td>1980</td>\n",
       "    </tr>\n",
       "    <tr>\n",
       "        <td>2</td>\n",
       "        <td>Julienas</td>\n",
       "        <td>11.3</td>\n",
       "        <td>1974</td>\n",
       "    </tr>\n",
       "    <tr>\n",
       "        <td>3</td>\n",
       "        <td>Savigny les Beaunes</td>\n",
       "        <td>12.1</td>\n",
       "        <td>1978</td>\n",
       "    </tr>\n",
       "    <tr>\n",
       "        <td>4</td>\n",
       "        <td>Mercurey</td>\n",
       "        <td>10.9</td>\n",
       "        <td>1980</td>\n",
       "    </tr>\n",
       "    <tr>\n",
       "        <td>5</td>\n",
       "        <td>Pommard</td>\n",
       "        <td>11.7</td>\n",
       "        <td>1976</td>\n",
       "    </tr>\n",
       "</table>"
      ],
      "text/plain": [
       "[(1, 'Mercurey', 11.5, 1980),\n",
       " (2, 'Julienas', 11.3, 1974),\n",
       " (3, 'Savigny les Beaunes', 12.1, 1978),\n",
       " (4, 'Mercurey', 10.9, 1980),\n",
       " (5, 'Pommard', 11.7, 1976)]"
      ]
     },
     "execution_count": 100,
     "metadata": {},
     "output_type": "execute_result"
    }
   ],
   "source": [
    "%%sql\n",
    "DROP TABLE IF EXISTS NV_MASTER2;\n",
    "\n",
    "--- Create NV_MASTER2 table\n",
    "CREATE TABLE NV_MASTER2 AS\n",
    "SELECT DISTINCT NV, CRU, DEGRE, MILL\n",
    "FROM MASTER2\n",
    "WHERE NV IS NOT NULL;\n",
    "\n",
    "SELECT *\n",
    "FROM NV_MASTER2\n",
    "LIMIT 5;"
   ]
  },
  {
   "cell_type": "code",
   "execution_count": 101,
   "metadata": {},
   "outputs": [
    {
     "name": "stdout",
     "output_type": "stream",
     "text": [
      "Done.\n",
      "Done.\n",
      "Done.\n"
     ]
    },
    {
     "data": {
      "text/html": [
       "<table>\n",
       "    <tr>\n",
       "        <th>NB</th>\n",
       "        <th>NOM</th>\n",
       "        <th>PRENOM</th>\n",
       "        <th>TYPE</th>\n",
       "    </tr>\n",
       "    <tr>\n",
       "        <td>11</td>\n",
       "        <td>Breton</td>\n",
       "        <td>Andre</td>\n",
       "        <td>petit</td>\n",
       "    </tr>\n",
       "    <tr>\n",
       "        <td>13</td>\n",
       "        <td>Barthes</td>\n",
       "        <td>Roland</td>\n",
       "        <td>moyen</td>\n",
       "    </tr>\n",
       "    <tr>\n",
       "        <td>16</td>\n",
       "        <td>Balzac</td>\n",
       "        <td>Honore de</td>\n",
       "        <td>moyen</td>\n",
       "    </tr>\n",
       "    <tr>\n",
       "        <td>18</td>\n",
       "        <td>Celine</td>\n",
       "        <td>Louis Ferdinand</td>\n",
       "        <td>gros</td>\n",
       "    </tr>\n",
       "    <tr>\n",
       "        <td>20</td>\n",
       "        <td>Chateaubriand</td>\n",
       "        <td>Francois-Rene de</td>\n",
       "        <td>moyen</td>\n",
       "    </tr>\n",
       "</table>"
      ],
      "text/plain": [
       "[(11, 'Breton', 'Andre', 'petit'),\n",
       " (13, 'Barthes', 'Roland', 'moyen'),\n",
       " (16, 'Balzac', 'Honore de', 'moyen'),\n",
       " (18, 'Celine', 'Louis Ferdinand', 'gros'),\n",
       " (20, 'Chateaubriand', 'Francois-Rene de', 'moyen')]"
      ]
     },
     "execution_count": 101,
     "metadata": {},
     "output_type": "execute_result"
    }
   ],
   "source": [
    "%%sql\n",
    "DROP TABLE IF EXISTS NB_MASTER2;\n",
    "\n",
    "--- Create NB_MASTER2 table\n",
    "CREATE TABLE NB_MASTER2 AS\n",
    "SELECT DISTINCT NB, NOM, PRENOM, TYPE\n",
    "FROM MASTER2\n",
    "WHERE NB IS NOT NULL;\n",
    "\n",
    "SELECT *\n",
    "FROM NB_MASTER2\n",
    "LIMIT 5;"
   ]
  },
  {
   "cell_type": "markdown",
   "metadata": {},
   "source": [
    "# PART II: SQL QUERIES\n",
    "\n",
    "In the second part of this TP you will create SQL queries to retrieve information from the database.\n",
    "\n",
    "**Important:**\n",
    "\n",
    "- You MUST use the normalized tables created in previous steps.\n",
    "  - The normalized tables will also be used in TP3.\n",
    "- Do NOT use **Master1** and **Master2** in your queries."
   ]
  },
  {
   "cell_type": "markdown",
   "metadata": {},
   "source": [
    "#### Exercise 2.1\n",
    "\n",
    "What are the different types of clients (buveurs) by volume of purchases?"
   ]
  },
  {
   "cell_type": "code",
   "execution_count": 102,
   "metadata": {},
   "outputs": [
    {
     "name": "stdout",
     "output_type": "stream",
     "text": [
      "Done.\n"
     ]
    },
    {
     "data": {
      "text/html": [
       "<table>\n",
       "    <tr>\n",
       "        <th>TYPE</th>\n",
       "    </tr>\n",
       "    <tr>\n",
       "        <td>petit</td>\n",
       "    </tr>\n",
       "    <tr>\n",
       "        <td>moyen</td>\n",
       "    </tr>\n",
       "    <tr>\n",
       "        <td>gros</td>\n",
       "    </tr>\n",
       "</table>"
      ],
      "text/plain": [
       "[('petit',), ('moyen',), ('gros',)]"
      ]
     },
     "execution_count": 102,
     "metadata": {},
     "output_type": "execute_result"
    }
   ],
   "source": [
    "%%sql\n",
    "SELECT DISTINCT TYPE\n",
    "FROM NB_MASTER2;"
   ]
  },
  {
   "cell_type": "markdown",
   "metadata": {},
   "source": [
    "#### Exercise 2.2\n",
    "\n",
    "What regions produce Pommard or Brouilly?"
   ]
  },
  {
   "cell_type": "code",
   "execution_count": 103,
   "metadata": {},
   "outputs": [
    {
     "name": "stdout",
     "output_type": "stream",
     "text": [
      "Done.\n"
     ]
    },
    {
     "data": {
      "text/html": [
       "<table>\n",
       "    <tr>\n",
       "        <th>REGION</th>\n",
       "    </tr>\n",
       "    <tr>\n",
       "        <td>Bourgogne</td>\n",
       "    </tr>\n",
       "    <tr>\n",
       "        <td>Rhone</td>\n",
       "    </tr>\n",
       "</table>"
      ],
      "text/plain": [
       "[('Bourgogne',), ('Rhone',)]"
      ]
     },
     "execution_count": 103,
     "metadata": {},
     "output_type": "execute_result"
    }
   ],
   "source": [
    "%%sql\n",
    "SELECT DISTINCT REGION\n",
    "FROM NP_MASTER1\n",
    "INNER JOIN NV_NP_MASTER1 ON NP_MASTER1.NP=NV_NP_MASTER1.NP\n",
    "INNER JOIN NV_MASTER1 ON NV_MASTER1.NV=NV_NP_MASTER1.NV\n",
    "WHERE CRU IN ('Pommard', 'Brouilly');"
   ]
  },
  {
   "cell_type": "markdown",
   "metadata": {},
   "source": [
    "#### Exercise 2.3\n",
    "\n",
    "What regions produce Pommard and Brouilly?"
   ]
  },
  {
   "cell_type": "code",
   "execution_count": 104,
   "metadata": {},
   "outputs": [
    {
     "name": "stdout",
     "output_type": "stream",
     "text": [
      "Done.\n"
     ]
    },
    {
     "data": {
      "text/html": [
       "<table>\n",
       "    <tr>\n",
       "        <th>REGION</th>\n",
       "    </tr>\n",
       "    <tr>\n",
       "        <td>Bourgogne</td>\n",
       "    </tr>\n",
       "</table>"
      ],
      "text/plain": [
       "[('Bourgogne',)]"
      ]
     },
     "execution_count": 104,
     "metadata": {},
     "output_type": "execute_result"
    }
   ],
   "source": [
    "%%sql\n",
    "SELECT DISTINCT REGION\n",
    "FROM NP_MASTER1\n",
    "INNER JOIN NV_NP_MASTER1 ON NP_MASTER1.NP=NV_NP_MASTER1.NP\n",
    "INNER JOIN NV_MASTER1 ON NV_MASTER1.NV=NV_NP_MASTER1.NV\n",
    "WHERE CRU='Pommard' AND REGION IN (SELECT DISTINCT REGION\n",
    "                                   FROM NP_MASTER1\n",
    "                                   INNER JOIN NV_NP_MASTER1 ON NP_MASTER1.NP=NV_NP_MASTER1.NP\n",
    "                                   INNER JOIN NV_MASTER1 ON NV_MASTER1.NV=NV_NP_MASTER1.NV\n",
    "                                   WHERE CRU='Brouilly');"
   ]
  },
  {
   "cell_type": "markdown",
   "metadata": {},
   "source": [
    "#### Exercise 2.4\n",
    "\n",
    "Get the number of wines bught by CRU and Millésime"
   ]
  },
  {
   "cell_type": "code",
   "execution_count": 105,
   "metadata": {},
   "outputs": [
    {
     "name": "stdout",
     "output_type": "stream",
     "text": [
      "Done.\n"
     ]
    },
    {
     "data": {
      "text/html": [
       "<table>\n",
       "    <tr>\n",
       "        <th>CRU</th>\n",
       "        <th>MILL</th>\n",
       "        <th>QTE</th>\n",
       "    </tr>\n",
       "    <tr>\n",
       "        <td>Arbois</td>\n",
       "        <td>1976</td>\n",
       "        <td>69</td>\n",
       "    </tr>\n",
       "    <tr>\n",
       "        <td>Arbois</td>\n",
       "        <td>1980</td>\n",
       "        <td>675</td>\n",
       "    </tr>\n",
       "    <tr>\n",
       "        <td>Auxey Duresses</td>\n",
       "        <td>1914</td>\n",
       "        <td>350</td>\n",
       "    </tr>\n",
       "    <tr>\n",
       "        <td>Beaujolais Primeur</td>\n",
       "        <td>1983</td>\n",
       "        <td>80</td>\n",
       "    </tr>\n",
       "    <tr>\n",
       "        <td>Beaujolais Villages</td>\n",
       "        <td>1975</td>\n",
       "        <td>800</td>\n",
       "    </tr>\n",
       "    <tr>\n",
       "        <td>Beaujolais Villages</td>\n",
       "        <td>1976</td>\n",
       "        <td>500</td>\n",
       "    </tr>\n",
       "    <tr>\n",
       "        <td>Beaujolais Villages</td>\n",
       "        <td>1978</td>\n",
       "        <td>450</td>\n",
       "    </tr>\n",
       "    <tr>\n",
       "        <td>Beaujolais Villages</td>\n",
       "        <td>1979</td>\n",
       "        <td>100</td>\n",
       "    </tr>\n",
       "    <tr>\n",
       "        <td>Bellet</td>\n",
       "        <td>1976</td>\n",
       "        <td>45</td>\n",
       "    </tr>\n",
       "    <tr>\n",
       "        <td>Blanquette de Limoux</td>\n",
       "        <td>1978</td>\n",
       "        <td>110</td>\n",
       "    </tr>\n",
       "    <tr>\n",
       "        <td>Bourgogne Passe Tout Grains</td>\n",
       "        <td>1979</td>\n",
       "        <td>350</td>\n",
       "    </tr>\n",
       "    <tr>\n",
       "        <td>Brouilly</td>\n",
       "        <td>1975</td>\n",
       "        <td>500</td>\n",
       "    </tr>\n",
       "    <tr>\n",
       "        <td>Cassis</td>\n",
       "        <td>1978</td>\n",
       "        <td>34</td>\n",
       "    </tr>\n",
       "    <tr>\n",
       "        <td>Cassis</td>\n",
       "        <td>1979</td>\n",
       "        <td>24</td>\n",
       "    </tr>\n",
       "    <tr>\n",
       "        <td>Chambolle Musigny</td>\n",
       "        <td>1968</td>\n",
       "        <td>120</td>\n",
       "    </tr>\n",
       "    <tr>\n",
       "        <td>Chapelle Chambertin</td>\n",
       "        <td>1968</td>\n",
       "        <td>40</td>\n",
       "    </tr>\n",
       "    <tr>\n",
       "        <td>Chateau Chalon</td>\n",
       "        <td>1976</td>\n",
       "        <td>900</td>\n",
       "    </tr>\n",
       "    <tr>\n",
       "        <td>Chateau Chalon</td>\n",
       "        <td>1978</td>\n",
       "        <td>180</td>\n",
       "    </tr>\n",
       "    <tr>\n",
       "        <td>Chateau Corton Grancey</td>\n",
       "        <td>1980</td>\n",
       "        <td>70</td>\n",
       "    </tr>\n",
       "    <tr>\n",
       "        <td>Chenas</td>\n",
       "        <td>1975</td>\n",
       "        <td>36</td>\n",
       "    </tr>\n",
       "    <tr>\n",
       "        <td>Chenas</td>\n",
       "        <td>1984</td>\n",
       "        <td>100</td>\n",
       "    </tr>\n",
       "    <tr>\n",
       "        <td>Chiroubles</td>\n",
       "        <td>1978</td>\n",
       "        <td>75</td>\n",
       "    </tr>\n",
       "    <tr>\n",
       "        <td>Chiroubles</td>\n",
       "        <td>1983</td>\n",
       "        <td>760</td>\n",
       "    </tr>\n",
       "    <tr>\n",
       "        <td>Chorey les Beaunes</td>\n",
       "        <td>1955</td>\n",
       "        <td>50</td>\n",
       "    </tr>\n",
       "    <tr>\n",
       "        <td>Clairette de Die</td>\n",
       "        <td>1976</td>\n",
       "        <td>25</td>\n",
       "    </tr>\n",
       "    <tr>\n",
       "        <td>Clos du roi</td>\n",
       "        <td>1972</td>\n",
       "        <td>986</td>\n",
       "    </tr>\n",
       "    <tr>\n",
       "        <td>Corbieres</td>\n",
       "        <td>1978</td>\n",
       "        <td>340</td>\n",
       "    </tr>\n",
       "    <tr>\n",
       "        <td>Cornas</td>\n",
       "        <td>1980</td>\n",
       "        <td>800</td>\n",
       "    </tr>\n",
       "    <tr>\n",
       "        <td>Corton</td>\n",
       "        <td>1972</td>\n",
       "        <td>50</td>\n",
       "    </tr>\n",
       "    <tr>\n",
       "        <td>Cote Rotie</td>\n",
       "        <td>1994</td>\n",
       "        <td>199</td>\n",
       "    </tr>\n",
       "    <tr>\n",
       "        <td>Cote de Brouilly</td>\n",
       "        <td>1899</td>\n",
       "        <td>70</td>\n",
       "    </tr>\n",
       "    <tr>\n",
       "        <td>Cote de Brouilly</td>\n",
       "        <td>1973</td>\n",
       "        <td>290</td>\n",
       "    </tr>\n",
       "    <tr>\n",
       "        <td>Cote de Brouilly</td>\n",
       "        <td>1980</td>\n",
       "        <td>100</td>\n",
       "    </tr>\n",
       "    <tr>\n",
       "        <td>Coteaux de Pierevert</td>\n",
       "        <td>1967</td>\n",
       "        <td>900</td>\n",
       "    </tr>\n",
       "    <tr>\n",
       "        <td>Coteaux du Tricastin</td>\n",
       "        <td>1974</td>\n",
       "        <td>980</td>\n",
       "    </tr>\n",
       "    <tr>\n",
       "        <td>Cotes de Beaune Villages</td>\n",
       "        <td>1971</td>\n",
       "        <td>859</td>\n",
       "    </tr>\n",
       "    <tr>\n",
       "        <td>Cotes de Beaune Villages</td>\n",
       "        <td>1975</td>\n",
       "        <td>12</td>\n",
       "    </tr>\n",
       "    <tr>\n",
       "        <td>Cotes de Nuits</td>\n",
       "        <td>1978</td>\n",
       "        <td>150</td>\n",
       "    </tr>\n",
       "    <tr>\n",
       "        <td>Cotes de Provence</td>\n",
       "        <td>1969</td>\n",
       "        <td>100</td>\n",
       "    </tr>\n",
       "    <tr>\n",
       "        <td>Cotes de Provence</td>\n",
       "        <td>1976</td>\n",
       "        <td>129</td>\n",
       "    </tr>\n",
       "    <tr>\n",
       "        <td>Cotes de Provence</td>\n",
       "        <td>1980</td>\n",
       "        <td>900</td>\n",
       "    </tr>\n",
       "    <tr>\n",
       "        <td>Cotes du Rhone</td>\n",
       "        <td>1968</td>\n",
       "        <td>13</td>\n",
       "    </tr>\n",
       "    <tr>\n",
       "        <td>Cotes du Rousillon</td>\n",
       "        <td>1978</td>\n",
       "        <td>900</td>\n",
       "    </tr>\n",
       "    <tr>\n",
       "        <td>Crozes - Hermitage</td>\n",
       "        <td>1972</td>\n",
       "        <td>160</td>\n",
       "    </tr>\n",
       "    <tr>\n",
       "        <td>Crozes Hermitage</td>\n",
       "        <td>1974</td>\n",
       "        <td>940</td>\n",
       "    </tr>\n",
       "    <tr>\n",
       "        <td>Crozes Hermitage</td>\n",
       "        <td>1975</td>\n",
       "        <td>70</td>\n",
       "    </tr>\n",
       "    <tr>\n",
       "        <td>Crozes-Hermitage</td>\n",
       "        <td>1983</td>\n",
       "        <td>60</td>\n",
       "    </tr>\n",
       "    <tr>\n",
       "        <td>Etoile</td>\n",
       "        <td>1979</td>\n",
       "        <td>100</td>\n",
       "    </tr>\n",
       "    <tr>\n",
       "        <td>Etoile</td>\n",
       "        <td>1980</td>\n",
       "        <td>970</td>\n",
       "    </tr>\n",
       "    <tr>\n",
       "        <td>Fleurie</td>\n",
       "        <td>1980</td>\n",
       "        <td>983</td>\n",
       "    </tr>\n",
       "    <tr>\n",
       "        <td>Gentil</td>\n",
       "        <td>1975</td>\n",
       "        <td>310</td>\n",
       "    </tr>\n",
       "    <tr>\n",
       "        <td>Gewurztraminer</td>\n",
       "        <td>1968</td>\n",
       "        <td>760</td>\n",
       "    </tr>\n",
       "    <tr>\n",
       "        <td>Gigondas</td>\n",
       "        <td>1978</td>\n",
       "        <td>900</td>\n",
       "    </tr>\n",
       "    <tr>\n",
       "        <td>Grands Echezeaux</td>\n",
       "        <td>1968</td>\n",
       "        <td>60</td>\n",
       "    </tr>\n",
       "    <tr>\n",
       "        <td>Hermitage</td>\n",
       "        <td>1979</td>\n",
       "        <td>120</td>\n",
       "    </tr>\n",
       "    <tr>\n",
       "        <td>Julienas</td>\n",
       "        <td>1974</td>\n",
       "        <td>100</td>\n",
       "    </tr>\n",
       "    <tr>\n",
       "        <td>Mercurey</td>\n",
       "        <td>1980</td>\n",
       "        <td>35</td>\n",
       "    </tr>\n",
       "    <tr>\n",
       "        <td>Mercurey</td>\n",
       "        <td>1981</td>\n",
       "        <td>300</td>\n",
       "    </tr>\n",
       "    <tr>\n",
       "        <td>Meursault</td>\n",
       "        <td>1975</td>\n",
       "        <td>50</td>\n",
       "    </tr>\n",
       "    <tr>\n",
       "        <td>Meursault</td>\n",
       "        <td>1980</td>\n",
       "        <td>100</td>\n",
       "    </tr>\n",
       "    <tr>\n",
       "        <td>Montagny</td>\n",
       "        <td>1978</td>\n",
       "        <td>None</td>\n",
       "    </tr>\n",
       "    <tr>\n",
       "        <td>Monthelie</td>\n",
       "        <td>1968</td>\n",
       "        <td>320</td>\n",
       "    </tr>\n",
       "    <tr>\n",
       "        <td>Morgon</td>\n",
       "        <td>1984</td>\n",
       "        <td>150</td>\n",
       "    </tr>\n",
       "    <tr>\n",
       "        <td>Moulin a vent</td>\n",
       "        <td>1983</td>\n",
       "        <td>40</td>\n",
       "    </tr>\n",
       "    <tr>\n",
       "        <td>Palette</td>\n",
       "        <td>1969</td>\n",
       "        <td>40</td>\n",
       "    </tr>\n",
       "    <tr>\n",
       "        <td>Palette</td>\n",
       "        <td>1981</td>\n",
       "        <td>132</td>\n",
       "    </tr>\n",
       "    <tr>\n",
       "        <td>Pommard</td>\n",
       "        <td>1972</td>\n",
       "        <td>15</td>\n",
       "    </tr>\n",
       "    <tr>\n",
       "        <td>Pommard</td>\n",
       "        <td>1976</td>\n",
       "        <td>46</td>\n",
       "    </tr>\n",
       "    <tr>\n",
       "        <td>Pouilly Vinzelles</td>\n",
       "        <td>1968</td>\n",
       "        <td>890</td>\n",
       "    </tr>\n",
       "    <tr>\n",
       "        <td>Puligny Montrachet</td>\n",
       "        <td>1974</td>\n",
       "        <td>60</td>\n",
       "    </tr>\n",
       "    <tr>\n",
       "        <td>Rasteau</td>\n",
       "        <td>1980</td>\n",
       "        <td>146</td>\n",
       "    </tr>\n",
       "    <tr>\n",
       "        <td>Riesling</td>\n",
       "        <td>1962</td>\n",
       "        <td>None</td>\n",
       "    </tr>\n",
       "    <tr>\n",
       "        <td>Rochgrande</td>\n",
       "        <td>1968</td>\n",
       "        <td>560</td>\n",
       "    </tr>\n",
       "    <tr>\n",
       "        <td>Saint Amour</td>\n",
       "        <td>1974</td>\n",
       "        <td>790</td>\n",
       "    </tr>\n",
       "    <tr>\n",
       "        <td>Saint Amour</td>\n",
       "        <td>1980</td>\n",
       "        <td>423</td>\n",
       "    </tr>\n",
       "    <tr>\n",
       "        <td>Saint Chinian</td>\n",
       "        <td>1976</td>\n",
       "        <td>101</td>\n",
       "    </tr>\n",
       "    <tr>\n",
       "        <td>Saint Veran</td>\n",
       "        <td>1973</td>\n",
       "        <td>213</td>\n",
       "    </tr>\n",
       "    <tr>\n",
       "        <td>Sancerre</td>\n",
       "        <td>1998</td>\n",
       "        <td>7000</td>\n",
       "    </tr>\n",
       "    <tr>\n",
       "        <td>Santenay</td>\n",
       "        <td>1972</td>\n",
       "        <td>70</td>\n",
       "    </tr>\n",
       "    <tr>\n",
       "        <td>Savigny les Beaunes</td>\n",
       "        <td>1973</td>\n",
       "        <td>80</td>\n",
       "    </tr>\n",
       "    <tr>\n",
       "        <td>Savigny les Beaunes</td>\n",
       "        <td>1974</td>\n",
       "        <td>50</td>\n",
       "    </tr>\n",
       "    <tr>\n",
       "        <td>Savigny les Beaunes</td>\n",
       "        <td>1977</td>\n",
       "        <td>125</td>\n",
       "    </tr>\n",
       "    <tr>\n",
       "        <td>Savigny les Beaunes</td>\n",
       "        <td>1978</td>\n",
       "        <td>830</td>\n",
       "    </tr>\n",
       "    <tr>\n",
       "        <td>Seyssel</td>\n",
       "        <td>1974</td>\n",
       "        <td>100</td>\n",
       "    </tr>\n",
       "    <tr>\n",
       "        <td>Seyssel</td>\n",
       "        <td>1980</td>\n",
       "        <td>79</td>\n",
       "    </tr>\n",
       "    <tr>\n",
       "        <td>Sylvaner</td>\n",
       "        <td>1982</td>\n",
       "        <td>120</td>\n",
       "    </tr>\n",
       "    <tr>\n",
       "        <td>Tavel</td>\n",
       "        <td>1980</td>\n",
       "        <td>500</td>\n",
       "    </tr>\n",
       "    <tr>\n",
       "        <td>Tokay d&#x27;Alsace</td>\n",
       "        <td>1982</td>\n",
       "        <td>690</td>\n",
       "    </tr>\n",
       "    <tr>\n",
       "        <td>Volnay</td>\n",
       "        <td>1980</td>\n",
       "        <td>10</td>\n",
       "    </tr>\n",
       "</table>"
      ],
      "text/plain": [
       "[('Arbois', 1976, 69),\n",
       " ('Arbois', 1980, 675),\n",
       " ('Auxey Duresses', 1914, 350),\n",
       " ('Beaujolais Primeur', 1983, 80),\n",
       " ('Beaujolais Villages', 1975, 800),\n",
       " ('Beaujolais Villages', 1976, 500),\n",
       " ('Beaujolais Villages', 1978, 450),\n",
       " ('Beaujolais Villages', 1979, 100),\n",
       " ('Bellet', 1976, 45),\n",
       " ('Blanquette de Limoux', 1978, 110),\n",
       " ('Bourgogne Passe Tout Grains', 1979, 350),\n",
       " ('Brouilly', 1975, 500),\n",
       " ('Cassis', 1978, 34),\n",
       " ('Cassis', 1979, 24),\n",
       " ('Chambolle Musigny', 1968, 120),\n",
       " ('Chapelle Chambertin', 1968, 40),\n",
       " ('Chateau Chalon', 1976, 900),\n",
       " ('Chateau Chalon', 1978, 180),\n",
       " ('Chateau Corton Grancey', 1980, 70),\n",
       " ('Chenas', 1975, 36),\n",
       " ('Chenas', 1984, 100),\n",
       " ('Chiroubles', 1978, 75),\n",
       " ('Chiroubles', 1983, 760),\n",
       " ('Chorey les Beaunes', 1955, 50),\n",
       " ('Clairette de Die', 1976, 25),\n",
       " ('Clos du roi', 1972, 986),\n",
       " ('Corbieres', 1978, 340),\n",
       " ('Cornas', 1980, 800),\n",
       " ('Corton', 1972, 50),\n",
       " ('Cote Rotie', 1994, 199),\n",
       " ('Cote de Brouilly', 1899, 70),\n",
       " ('Cote de Brouilly', 1973, 290),\n",
       " ('Cote de Brouilly', 1980, 100),\n",
       " ('Coteaux de Pierevert', 1967, 900),\n",
       " ('Coteaux du Tricastin', 1974, 980),\n",
       " ('Cotes de Beaune Villages', 1971, 859),\n",
       " ('Cotes de Beaune Villages', 1975, 12),\n",
       " ('Cotes de Nuits', 1978, 150),\n",
       " ('Cotes de Provence', 1969, 100),\n",
       " ('Cotes de Provence', 1976, 129),\n",
       " ('Cotes de Provence', 1980, 900),\n",
       " ('Cotes du Rhone', 1968, 13),\n",
       " ('Cotes du Rousillon', 1978, 900),\n",
       " ('Crozes - Hermitage', 1972, 160),\n",
       " ('Crozes Hermitage', 1974, 940),\n",
       " ('Crozes Hermitage', 1975, 70),\n",
       " ('Crozes-Hermitage', 1983, 60),\n",
       " ('Etoile', 1979, 100),\n",
       " ('Etoile', 1980, 970),\n",
       " ('Fleurie', 1980, 983),\n",
       " ('Gentil', 1975, 310),\n",
       " ('Gewurztraminer', 1968, 760),\n",
       " ('Gigondas', 1978, 900),\n",
       " ('Grands Echezeaux', 1968, 60),\n",
       " ('Hermitage', 1979, 120),\n",
       " ('Julienas', 1974, 100),\n",
       " ('Mercurey', 1980, 35),\n",
       " ('Mercurey', 1981, 300),\n",
       " ('Meursault', 1975, 50),\n",
       " ('Meursault', 1980, 100),\n",
       " ('Montagny', 1978, None),\n",
       " ('Monthelie', 1968, 320),\n",
       " ('Morgon', 1984, 150),\n",
       " ('Moulin a vent', 1983, 40),\n",
       " ('Palette', 1969, 40),\n",
       " ('Palette', 1981, 132),\n",
       " ('Pommard', 1972, 15),\n",
       " ('Pommard', 1976, 46),\n",
       " ('Pouilly Vinzelles', 1968, 890),\n",
       " ('Puligny Montrachet', 1974, 60),\n",
       " ('Rasteau', 1980, 146),\n",
       " ('Riesling', 1962, None),\n",
       " ('Rochgrande', 1968, 560),\n",
       " ('Saint Amour', 1974, 790),\n",
       " ('Saint Amour', 1980, 423),\n",
       " ('Saint Chinian', 1976, 101),\n",
       " ('Saint Veran', 1973, 213),\n",
       " ('Sancerre', 1998, 7000),\n",
       " ('Santenay', 1972, 70),\n",
       " ('Savigny les Beaunes', 1973, 80),\n",
       " ('Savigny les Beaunes', 1974, 50),\n",
       " ('Savigny les Beaunes', 1977, 125),\n",
       " ('Savigny les Beaunes', 1978, 830),\n",
       " ('Seyssel', 1974, 100),\n",
       " ('Seyssel', 1980, 79),\n",
       " ('Sylvaner', 1982, 120),\n",
       " ('Tavel', 1980, 500),\n",
       " (\"Tokay d'Alsace\", 1982, 690),\n",
       " ('Volnay', 1980, 10)]"
      ]
     },
     "execution_count": 105,
     "metadata": {},
     "output_type": "execute_result"
    }
   ],
   "source": [
    "%%sql\n",
    "SELECT CRU, MILL,QTE\n",
    "FROM NV_NP_MASTER1\n",
    "INNER JOIN NV_MASTER1 ON NV_MASTER1.NV=NV_NP_MASTER1.NV\n",
    "GROUP BY CRU, MILL"
   ]
  },
  {
   "cell_type": "markdown",
   "metadata": {},
   "source": [
    "#### Exercise 2.5\n",
    "\n",
    "Retrieve the wine number (NV) of wines produced by more than three producers"
   ]
  },
  {
   "cell_type": "code",
   "execution_count": 106,
   "metadata": {},
   "outputs": [
    {
     "name": "stdout",
     "output_type": "stream",
     "text": [
      "Done.\n"
     ]
    },
    {
     "data": {
      "text/html": [
       "<table>\n",
       "    <tr>\n",
       "        <th>NV</th>\n",
       "        <th>CRU</th>\n",
       "        <th>NB_PRODUCERS</th>\n",
       "    </tr>\n",
       "    <tr>\n",
       "        <td>45</td>\n",
       "        <td>Chiroubles</td>\n",
       "        <td>5</td>\n",
       "    </tr>\n",
       "    <tr>\n",
       "        <td>78</td>\n",
       "        <td>Etoile</td>\n",
       "        <td>5</td>\n",
       "    </tr>\n",
       "    <tr>\n",
       "        <td>89</td>\n",
       "        <td>Cotes de Provence</td>\n",
       "        <td>4</td>\n",
       "    </tr>\n",
       "    <tr>\n",
       "        <td>98</td>\n",
       "        <td>Corbieres</td>\n",
       "        <td>5</td>\n",
       "    </tr>\n",
       "</table>"
      ],
      "text/plain": [
       "[(45, 'Chiroubles', 5),\n",
       " (78, 'Etoile', 5),\n",
       " (89, 'Cotes de Provence', 4),\n",
       " (98, 'Corbieres', 5)]"
      ]
     },
     "execution_count": 106,
     "metadata": {},
     "output_type": "execute_result"
    }
   ],
   "source": [
    "%%sql\n",
    "SELECT NV_NP_MASTER1.NV, NV_MASTER1.CRU, COUNT(NP) AS NB_PRODUCERS\n",
    "FROM NV_NP_MASTER1\n",
    "INNER JOIN NV_MASTER1 ON NV_MASTER1.NV=NV_NP_MASTER1.NV\n",
    "GROUP BY NV_NP_MASTER1.NV HAVING COUNT(NP)>3;"
   ]
  },
  {
   "cell_type": "markdown",
   "metadata": {},
   "source": [
    "#### Exercise 2.6\n",
    "\n",
    "Which producers have not produced any wine?"
   ]
  },
  {
   "cell_type": "code",
   "execution_count": 107,
   "metadata": {
    "scrolled": false
   },
   "outputs": [
    {
     "name": "stdout",
     "output_type": "stream",
     "text": [
      "Done.\n"
     ]
    },
    {
     "data": {
      "text/html": [
       "<table>\n",
       "    <tr>\n",
       "        <th>NP</th>\n",
       "        <th>NOM</th>\n",
       "        <th>PRENOM</th>\n",
       "    </tr>\n",
       "    <tr>\n",
       "        <td>3</td>\n",
       "        <td>Six</td>\n",
       "        <td>Paul</td>\n",
       "    </tr>\n",
       "    <tr>\n",
       "        <td>6</td>\n",
       "        <td>Marmagne</td>\n",
       "        <td>Bernard</td>\n",
       "    </tr>\n",
       "    <tr>\n",
       "        <td>8</td>\n",
       "        <td>Lioger d&#x27;Harduy</td>\n",
       "        <td>Gabriel</td>\n",
       "    </tr>\n",
       "    <tr>\n",
       "        <td>16</td>\n",
       "        <td>Barbin</td>\n",
       "        <td>Bernard</td>\n",
       "    </tr>\n",
       "    <tr>\n",
       "        <td>17</td>\n",
       "        <td>Faiveley</td>\n",
       "        <td>Guy</td>\n",
       "    </tr>\n",
       "</table>"
      ],
      "text/plain": [
       "[(3, 'Six', 'Paul'),\n",
       " (6, 'Marmagne', 'Bernard'),\n",
       " (8, \"Lioger d'Harduy\", 'Gabriel'),\n",
       " (16, 'Barbin', 'Bernard'),\n",
       " (17, 'Faiveley', 'Guy')]"
      ]
     },
     "execution_count": 107,
     "metadata": {},
     "output_type": "execute_result"
    }
   ],
   "source": [
    "%%sql\n",
    "SELECT NP_MASTER1.NP, NOM, PRENOM\n",
    "FROM NP_MASTER1\n",
    "LEFT JOIN NV_NP_MASTER1 ON NP_MASTER1.NP=NV_NP_MASTER1.NP\n",
    "GROUP BY NP_MASTER1.NP HAVING SUM(QTE) IS NULL\n",
    "LIMIT 5;"
   ]
  },
  {
   "cell_type": "markdown",
   "metadata": {},
   "source": [
    "#### Exercise 2.7\n",
    "\n",
    "What clients (buveurs) have bought at least one wine from 1980?"
   ]
  },
  {
   "cell_type": "code",
   "execution_count": 108,
   "metadata": {},
   "outputs": [
    {
     "name": "stdout",
     "output_type": "stream",
     "text": [
      "Done.\n"
     ]
    },
    {
     "data": {
      "text/html": [
       "<table>\n",
       "    <tr>\n",
       "        <th>NB</th>\n",
       "        <th>NOM</th>\n",
       "        <th>PRENOM</th>\n",
       "    </tr>\n",
       "    <tr>\n",
       "        <td>2</td>\n",
       "        <td>Artaud</td>\n",
       "        <td>Antonin</td>\n",
       "    </tr>\n",
       "    <tr>\n",
       "        <td>8</td>\n",
       "        <td>Aragon</td>\n",
       "        <td>Louis</td>\n",
       "    </tr>\n",
       "    <tr>\n",
       "        <td>44</td>\n",
       "        <td>Gide</td>\n",
       "        <td>Andre</td>\n",
       "    </tr>\n",
       "    <tr>\n",
       "        <td>45</td>\n",
       "        <td>Giono</td>\n",
       "        <td>Jean</td>\n",
       "    </tr>\n",
       "    <tr>\n",
       "        <td>50</td>\n",
       "        <td>Lautreamont</td>\n",
       "        <td>None</td>\n",
       "    </tr>\n",
       "    <tr>\n",
       "        <td>61</td>\n",
       "        <td>Mallarme</td>\n",
       "        <td>Stephane</td>\n",
       "    </tr>\n",
       "</table>"
      ],
      "text/plain": [
       "[(2, 'Artaud', 'Antonin'),\n",
       " (8, 'Aragon', 'Louis'),\n",
       " (44, 'Gide', 'Andre'),\n",
       " (45, 'Giono', 'Jean'),\n",
       " (50, 'Lautreamont', None),\n",
       " (61, 'Mallarme', 'Stephane')]"
      ]
     },
     "execution_count": 108,
     "metadata": {},
     "output_type": "execute_result"
    }
   ],
   "source": [
    "%%sql\n",
    "SELECT NB_MASTER2.NB, NOM, PRENOM\n",
    "FROM NB_MASTER2\n",
    "INNER JOIN NV_NB_DATES_MASTER2 ON NV_NB_DATES_MASTER2.NB=NB_MASTER2.NB\n",
    "INNER JOIN NV_MASTER2 ON NV_NB_DATES_MASTER2.NV=NV_MASTER2.NV\n",
    "WHERE MILL=1980\n",
    "GROUP BY NB_MASTER2.NB"
   ]
  },
  {
   "cell_type": "markdown",
   "metadata": {},
   "source": [
    "#### Exercise 2.8\n",
    "\n",
    "What clients (buveurs) have NOT bought any wine from 1980?"
   ]
  },
  {
   "cell_type": "code",
   "execution_count": 109,
   "metadata": {
    "scrolled": true
   },
   "outputs": [
    {
     "name": "stdout",
     "output_type": "stream",
     "text": [
      "Done.\n"
     ]
    },
    {
     "data": {
      "text/html": [
       "<table>\n",
       "    <tr>\n",
       "        <th>NB</th>\n",
       "        <th>NOM</th>\n",
       "        <th>PRENOM</th>\n",
       "    </tr>\n",
       "    <tr>\n",
       "        <td>9</td>\n",
       "        <td>Ajar</td>\n",
       "        <td>Emile</td>\n",
       "    </tr>\n",
       "    <tr>\n",
       "        <td>10</td>\n",
       "        <td>Andersen</td>\n",
       "        <td>Yann</td>\n",
       "    </tr>\n",
       "    <tr>\n",
       "        <td>7</td>\n",
       "        <td>Anouilh</td>\n",
       "        <td>Jean</td>\n",
       "    </tr>\n",
       "    <tr>\n",
       "        <td>4</td>\n",
       "        <td>Apollinaire</td>\n",
       "        <td>Guillaume</td>\n",
       "    </tr>\n",
       "    <tr>\n",
       "        <td>1</td>\n",
       "        <td>Aristote</td>\n",
       "        <td>None</td>\n",
       "    </tr>\n",
       "</table>"
      ],
      "text/plain": [
       "[(9, 'Ajar', 'Emile'),\n",
       " (10, 'Andersen', 'Yann'),\n",
       " (7, 'Anouilh', 'Jean'),\n",
       " (4, 'Apollinaire', 'Guillaume'),\n",
       " (1, 'Aristote', None)]"
      ]
     },
     "execution_count": 109,
     "metadata": {},
     "output_type": "execute_result"
    }
   ],
   "source": [
    "%%sql\n",
    "SELECT NB, NOM, PRENOM\n",
    "FROM NB_MASTER2\n",
    "WHERE NB NOT IN (SELECT NB_MASTER2.NB\n",
    "                FROM NB_MASTER2\n",
    "                INNER JOIN NV_NB_DATES_MASTER2 ON NV_NB_DATES_MASTER2.NB=NB_MASTER2.NB\n",
    "                INNER JOIN NV_MASTER2 ON NV_NB_DATES_MASTER2.NV=NV_MASTER2.NV\n",
    "                WHERE MILL=1980\n",
    "                GROUP BY NB_MASTER2.NB)\n",
    "ORDER BY NOM\n",
    "LIMIT 5;"
   ]
  },
  {
   "cell_type": "markdown",
   "metadata": {},
   "source": [
    "#### Exercise 2.9\n",
    "\n",
    "What clients (buveurs) have bought ONLY wines from 1980?"
   ]
  },
  {
   "cell_type": "code",
   "execution_count": 110,
   "metadata": {},
   "outputs": [
    {
     "name": "stdout",
     "output_type": "stream",
     "text": [
      "Done.\n"
     ]
    },
    {
     "data": {
      "text/html": [
       "<table>\n",
       "    <tr>\n",
       "        <th>NB</th>\n",
       "        <th>NOM</th>\n",
       "        <th>PRENOM</th>\n",
       "    </tr>\n",
       "    <tr>\n",
       "        <td>2</td>\n",
       "        <td>Artaud</td>\n",
       "        <td>Antonin</td>\n",
       "    </tr>\n",
       "    <tr>\n",
       "        <td>44</td>\n",
       "        <td>Gide</td>\n",
       "        <td>Andre</td>\n",
       "    </tr>\n",
       "    <tr>\n",
       "        <td>45</td>\n",
       "        <td>Giono</td>\n",
       "        <td>Jean</td>\n",
       "    </tr>\n",
       "    <tr>\n",
       "        <td>8</td>\n",
       "        <td>Aragon</td>\n",
       "        <td>Louis</td>\n",
       "    </tr>\n",
       "    <tr>\n",
       "        <td>50</td>\n",
       "        <td>Lautreamont</td>\n",
       "        <td>None</td>\n",
       "    </tr>\n",
       "    <tr>\n",
       "        <td>61</td>\n",
       "        <td>Mallarme</td>\n",
       "        <td>Stephane</td>\n",
       "    </tr>\n",
       "</table>"
      ],
      "text/plain": [
       "[(2, 'Artaud', 'Antonin'),\n",
       " (44, 'Gide', 'Andre'),\n",
       " (45, 'Giono', 'Jean'),\n",
       " (8, 'Aragon', 'Louis'),\n",
       " (50, 'Lautreamont', None),\n",
       " (61, 'Mallarme', 'Stephane')]"
      ]
     },
     "execution_count": 110,
     "metadata": {},
     "output_type": "execute_result"
    }
   ],
   "source": [
    "%%sql\n",
    "SELECT NB, NOM, PRENOM\n",
    "FROM NB_MASTER2\n",
    "WHERE NB NOT IN (SELECT NB\n",
    "                 FROM NB_MASTER2\n",
    "                 WHERE NB NOT IN (SELECT NB_MASTER2.NB\n",
    "                                  FROM NB_MASTER2\n",
    "                                  INNER JOIN NV_NB_DATES_MASTER2 ON NV_NB_DATES_MASTER2.NB=NB_MASTER2.NB\n",
    "                                  INNER JOIN NV_MASTER2 ON NV_NB_DATES_MASTER2.NV=NV_MASTER2.NV\n",
    "                                  WHERE MILL=1980\n",
    "                                  GROUP BY NB_MASTER2.NB))\n",
    "AND NB IN (SELECT NB_MASTER2.NB\n",
    "            FROM NB_MASTER2\n",
    "            INNER JOIN NV_NB_DATES_MASTER2 ON NV_NB_DATES_MASTER2.NB=NB_MASTER2.NB\n",
    "            INNER JOIN NV_MASTER2 ON NV_NB_DATES_MASTER2.NV=NV_MASTER2.NV\n",
    "            WHERE MILL=1980\n",
    "            GROUP BY NB_MASTER2.NB)"
   ]
  },
  {
   "cell_type": "markdown",
   "metadata": {},
   "source": [
    "#### Exercise 2.10\n",
    "\n",
    "List all wines from 1980"
   ]
  },
  {
   "cell_type": "code",
   "execution_count": 111,
   "metadata": {},
   "outputs": [
    {
     "name": "stdout",
     "output_type": "stream",
     "text": [
      "Done.\n"
     ]
    },
    {
     "data": {
      "text/html": [
       "<table>\n",
       "    <tr>\n",
       "        <th>NV</th>\n",
       "        <th>CRU</th>\n",
       "    </tr>\n",
       "    <tr>\n",
       "        <td>74</td>\n",
       "        <td>Arbois</td>\n",
       "    </tr>\n",
       "    <tr>\n",
       "        <td>26</td>\n",
       "        <td>Chateau Corton Grancey</td>\n",
       "    </tr>\n",
       "    <tr>\n",
       "        <td>82</td>\n",
       "        <td>Cornas</td>\n",
       "    </tr>\n",
       "    <tr>\n",
       "        <td>20</td>\n",
       "        <td>Cote de Brouilly</td>\n",
       "    </tr>\n",
       "    <tr>\n",
       "        <td>87</td>\n",
       "        <td>Cotes de Provence</td>\n",
       "    </tr>\n",
       "    <tr>\n",
       "        <td>78</td>\n",
       "        <td>Etoile</td>\n",
       "    </tr>\n",
       "    <tr>\n",
       "        <td>43</td>\n",
       "        <td>Fleurie</td>\n",
       "    </tr>\n",
       "    <tr>\n",
       "        <td>4</td>\n",
       "        <td>Mercurey</td>\n",
       "    </tr>\n",
       "    <tr>\n",
       "        <td>16</td>\n",
       "        <td>Meursault</td>\n",
       "    </tr>\n",
       "    <tr>\n",
       "        <td>84</td>\n",
       "        <td>Rasteau</td>\n",
       "    </tr>\n",
       "    <tr>\n",
       "        <td>83</td>\n",
       "        <td>Saint Amour</td>\n",
       "    </tr>\n",
       "    <tr>\n",
       "        <td>80</td>\n",
       "        <td>Seyssel</td>\n",
       "    </tr>\n",
       "    <tr>\n",
       "        <td>86</td>\n",
       "        <td>Tavel</td>\n",
       "    </tr>\n",
       "    <tr>\n",
       "        <td>28</td>\n",
       "        <td>Volnay</td>\n",
       "    </tr>\n",
       "</table>"
      ],
      "text/plain": [
       "[(74, 'Arbois'),\n",
       " (26, 'Chateau Corton Grancey'),\n",
       " (82, 'Cornas'),\n",
       " (20, 'Cote de Brouilly'),\n",
       " (87, 'Cotes de Provence'),\n",
       " (78, 'Etoile'),\n",
       " (43, 'Fleurie'),\n",
       " (4, 'Mercurey'),\n",
       " (16, 'Meursault'),\n",
       " (84, 'Rasteau'),\n",
       " (83, 'Saint Amour'),\n",
       " (80, 'Seyssel'),\n",
       " (86, 'Tavel'),\n",
       " (28, 'Volnay')]"
      ]
     },
     "execution_count": 111,
     "metadata": {},
     "output_type": "execute_result"
    }
   ],
   "source": [
    "%%sql\n",
    "SELECT NV, CRU\n",
    "FROM NV_MASTER2\n",
    "WHERE MILL=1980\n",
    "GROUP BY CRU\n",
    "ORDER BY CRU"
   ]
  },
  {
   "cell_type": "markdown",
   "metadata": {},
   "source": [
    "#### Exercise 2.11\n",
    "\n",
    "What are the wines from 1980 bought by NB=2?"
   ]
  },
  {
   "cell_type": "code",
   "execution_count": 112,
   "metadata": {},
   "outputs": [
    {
     "name": "stdout",
     "output_type": "stream",
     "text": [
      "Done.\n"
     ]
    },
    {
     "data": {
      "text/html": [
       "<table>\n",
       "    <tr>\n",
       "        <th>NOM</th>\n",
       "        <th>PRENOM</th>\n",
       "        <th>NV</th>\n",
       "        <th>CRU</th>\n",
       "        <th>QTE</th>\n",
       "    </tr>\n",
       "    <tr>\n",
       "        <td>Artaud</td>\n",
       "        <td>Antonin</td>\n",
       "        <td>1</td>\n",
       "        <td>Mercurey</td>\n",
       "        <td>33</td>\n",
       "    </tr>\n",
       "</table>"
      ],
      "text/plain": [
       "[('Artaud', 'Antonin', 1, 'Mercurey', 33)]"
      ]
     },
     "execution_count": 112,
     "metadata": {},
     "output_type": "execute_result"
    }
   ],
   "source": [
    "%%sql\n",
    "SELECT NOM, PRENOM, NV_MASTER2.NV, CRU, QTE\n",
    "FROM NV_MASTER2\n",
    "INNER JOIN NV_NB_DATES_MASTER2 ON NV_NB_DATES_MASTER2.NV=NV_MASTER2.NV\n",
    "INNER JOIN NB_MASTER2 ON NB_MASTER2.NB=NV_NB_DATES_MASTER2.NB\n",
    "WHERE MILL=1980 AND NB_MASTER2.NB=2"
   ]
  },
  {
   "cell_type": "markdown",
   "metadata": {},
   "source": [
    "#### Exercise 2.12\n",
    "\n",
    "What clients (buveurs) have bought ALL the wines from 1980?"
   ]
  },
  {
   "cell_type": "code",
   "execution_count": 113,
   "metadata": {},
   "outputs": [
    {
     "name": "stdout",
     "output_type": "stream",
     "text": [
      "Done.\n"
     ]
    },
    {
     "data": {
      "text/html": [
       "<table>\n",
       "    <tr>\n",
       "        <th>NB</th>\n",
       "        <th>NOM</th>\n",
       "        <th>PRENOM</th>\n",
       "        <th>NB_WINES_2018</th>\n",
       "    </tr>\n",
       "    <tr>\n",
       "        <td>44</td>\n",
       "        <td>Gide</td>\n",
       "        <td>Andre</td>\n",
       "        <td>18</td>\n",
       "    </tr>\n",
       "</table>"
      ],
      "text/plain": [
       "[(44, 'Gide', 'Andre', 18)]"
      ]
     },
     "execution_count": 113,
     "metadata": {},
     "output_type": "execute_result"
    }
   ],
   "source": [
    "%%sql\n",
    "SELECT NB_MASTER2.NB, NOM, PRENOM, COUNT(NV_MASTER2.NV) AS NB_WINES_2018\n",
    "FROM NB_MASTER2\n",
    "INNER JOIN NV_NB_DATES_MASTER2 ON NV_NB_DATES_MASTER2.NB=NB_MASTER2.NB\n",
    "INNER JOIN NV_MASTER2 ON NV_NB_DATES_MASTER2.NV=NV_MASTER2.NV\n",
    "WHERE MILL=1980 \n",
    "GROUP BY NB_MASTER2.NB HAVING NB_WINES_2018=(SELECT COUNT(y.NV)\n",
    "                                            FROM NV_MASTER2 y\n",
    "                                            WHERE y.MILL=1980)\n"
   ]
  }
 ],
 "metadata": {
  "anaconda-cloud": {},
  "kernelspec": {
   "display_name": "Python 3",
   "language": "python",
   "name": "python3"
  },
  "language_info": {
   "codemirror_mode": {
    "name": "ipython",
    "version": 3
   },
   "file_extension": ".py",
   "mimetype": "text/x-python",
   "name": "python",
   "nbconvert_exporter": "python",
   "pygments_lexer": "ipython3",
   "version": "3.6.5"
  }
 },
 "nbformat": 4,
 "nbformat_minor": 2
}
