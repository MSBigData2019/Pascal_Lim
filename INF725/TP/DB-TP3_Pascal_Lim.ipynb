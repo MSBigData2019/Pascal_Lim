{
 "cells": [
  {
   "cell_type": "markdown",
   "metadata": {},
   "source": [
    "# TP3 - Views, Updates and Design\n",
    "\n",
    "The objectives for this TP are:\n",
    "\n",
    "1. Create and use SQL Views\n",
    "2. Update database content\n",
    "3. Design the database schema for a Social Network\n",
    "\n",
    "___\n",
    "\n",
    "For the first 2 parts we will use the **`wine.db`** database and the Tables created in TP2.\n",
    "\n",
    "A reminder of the wine database schema:\n",
    "\n",
    "<center>**Master1**</center>\n",
    "\n",
    "|*Attribute*|         *Description*          |\n",
    "| -------   |--------------------------------|\n",
    "| NV        | Wine number                    |\n",
    "| CRU       | Vineyard or group of vineyards |\n",
    "| DEGRE     | Alcohol content                |\n",
    "| MILL      | Vintage year                   |\n",
    "| QTE       | Number of bottles harvested    |\n",
    "| NP        | Producer number                |\n",
    "| NOM       | Producer's last name           |\n",
    "| PRENOM    | Producer's first name          |\n",
    "| REGION    | Production region              |\n",
    "\n",
    "<center>**Master2**</center>\n",
    "\n",
    "|*Attribute*|                         *Description*                  |\n",
    "| -------   |--------------------------------------------------------|\n",
    "| NV        | Wine number                                            |\n",
    "| CRU       | Vineyard or group of vineyards                         |\n",
    "| DEGRE     | Alcohol content                                        |\n",
    "| MILL      | Vintage year                                           |\n",
    "| DATES     | Buying date                                            |\n",
    "| LIEU      | Place where the wine was sold                          |\n",
    "| QTE       | Number of bottles bought                               |\n",
    "| NB        | Client (buveur) number                                 |\n",
    "| NOM       | Client's last name                                     |\n",
    "| PRENOM    | Client's first name                                    |\n",
    "| TYPE      | Type of client by volume of purchases                  |\n",
    "| REGION    | Administrative Region (different to production region) |\n"
   ]
  },
  {
   "cell_type": "code",
   "execution_count": 151,
   "metadata": {},
   "outputs": [],
   "source": [
    "import sqlite3\n",
    "from IPython.utils.traitlets import Bool, Int, Unicode"
   ]
  },
  {
   "cell_type": "code",
   "execution_count": 152,
   "metadata": {},
   "outputs": [],
   "source": [
    "def printSchema(connection):\n",
    "    ### Source: http://stackoverflow.com/a/35092773/4765776\n",
    "    for (tableName,) in connection.execute(\n",
    "        \"\"\"\n",
    "        select NAME from SQLITE_MASTER where TYPE='table' order by NAME;\n",
    "        \"\"\"\n",
    "    ):\n",
    "        print(\"{}:\".format(tableName))\n",
    "        for (\n",
    "            columnID, columnName, columnType,\n",
    "            columnNotNull, columnDefault, columnPK,\n",
    "        ) in connection.execute(\"pragma table_info('{}');\".format(tableName)):\n",
    "            print(\"  {id}: {name}({type}){null}{default}{pk}\".format(\n",
    "                id=columnID,\n",
    "                name=columnName,\n",
    "                type=columnType,\n",
    "                null=\" not null\" if columnNotNull else \"\",\n",
    "                default=\" [{}]\".format(columnDefault) if columnDefault else \"\",\n",
    "                pk=\" *{}\".format(columnPK) if columnPK else \"\",\n",
    "            ))"
   ]
  },
  {
   "cell_type": "code",
   "execution_count": 153,
   "metadata": {},
   "outputs": [
    {
     "name": "stdout",
     "output_type": "stream",
     "text": [
      "Database schema:\n",
      "MASTER1:\n",
      "  0: NV(NUM)\n",
      "  1: CRU(TEXT)\n",
      "  2: DEGRE(NUM)\n",
      "  3: MILL(NUM)\n",
      "  4: QTE(NUM)\n",
      "  5: NP(NUM)\n",
      "  6: NOM(TEXT)\n",
      "  7: PRENOM(TEXT)\n",
      "  8: REGION(TEXT)\n",
      "MASTER2:\n",
      "  0: NV(NUM)\n",
      "  1: CRU(TEXT)\n",
      "  2: DEGRE(NUM)\n",
      "  3: MILL(NUM)\n",
      "  4: DATES(DATE)\n",
      "  5: LIEU(TEXT)\n",
      "  6: QTE(NUM)\n",
      "  7: NB(NUM)\n",
      "  8: NOM(TEXT)\n",
      "  9: PRENOM(TEXT)\n",
      "  10: TYPE(TEXT)\n",
      "  11: REGION(TEXT)\n",
      "NB_MASTER2:\n",
      "  0: NB(NUM)\n",
      "  1: NOM(TEXT)\n",
      "  2: PRENOM(TEXT)\n",
      "  3: TYPE(TEXT)\n",
      "NP_MASTER1:\n",
      "  0: NP(NUM)\n",
      "  1: NOM(TEXT)\n",
      "  2: PRENOM(TEXT)\n",
      "  3: REGION(TEXT)\n",
      "NV_MASTER1:\n",
      "  0: NV(NUM)\n",
      "  1: CRU(TEXT)\n",
      "  2: DEGRE(NUM)\n",
      "  3: MILL(NUM)\n",
      "NV_MASTER2:\n",
      "  0: NV(NUM)\n",
      "  1: CRU(TEXT)\n",
      "  2: DEGRE(NUM)\n",
      "  3: MILL(NUM)\n",
      "NV_NB_DATES_MASTER2:\n",
      "  0: NV(NUM)\n",
      "  1: NB(NUM)\n",
      "  2: DATES(NUM)\n",
      "  3: QTE(NUM)\n",
      "  4: LIEU(TEXT)\n",
      "  5: REGION(TEXT)\n",
      "NV_NP_MASTER1:\n",
      "  0: NV(NUM)\n",
      "  1: NP(NUM)\n",
      "  2: QTE(NUM)\n",
      "RBA:\n",
      "  0: NB(NUM)\n",
      "  1: NOM(TEXT)\n",
      "  2: PRENOM(TEXT)\n",
      "  3: TYPE(TEXT)\n",
      "RBB:\n",
      "  0: NB(NUM)\n",
      "  1: NOM(TEXT)\n",
      "  2: PRENOM(TEXT)\n",
      "  3: TYPE(TEXT)\n",
      "sqlite_sequence:\n",
      "  0: name()\n",
      "  1: seq()\n"
     ]
    }
   ],
   "source": [
    "conn = sqlite3.connect('wine.db')\n",
    "c = conn.cursor()\n",
    "print(\"Database schema:\")\n",
    "printSchema(conn)"
   ]
  },
  {
   "cell_type": "markdown",
   "metadata": {},
   "source": [
    "Again, we will use **`%%sql`** magic for our queries"
   ]
  },
  {
   "cell_type": "code",
   "execution_count": 154,
   "metadata": {},
   "outputs": [
    {
     "name": "stdout",
     "output_type": "stream",
     "text": [
      "The sql extension is already loaded. To reload it, use:\n",
      "  %reload_ext sql\n"
     ]
    },
    {
     "data": {
      "text/plain": [
       "'Connected: None@wine.db'"
      ]
     },
     "execution_count": 154,
     "metadata": {},
     "output_type": "execute_result"
    }
   ],
   "source": [
    "%load_ext sql\n",
    "%sql sqlite:///wine.db"
   ]
  },
  {
   "cell_type": "markdown",
   "metadata": {},
   "source": [
    "Recreate the Normalized Tables from **Master1** and **Master2** as you did in the TP2"
   ]
  },
  {
   "cell_type": "code",
   "execution_count": 155,
   "metadata": {},
   "outputs": [
    {
     "name": "stdout",
     "output_type": "stream",
     "text": [
      "Done.\n",
      "Done.\n",
      "Done.\n",
      "Done.\n",
      "Done.\n",
      "Done.\n",
      "Done.\n",
      "Done.\n",
      "Done.\n",
      "Done.\n",
      "Done.\n",
      "Done.\n"
     ]
    },
    {
     "data": {
      "text/plain": [
       "[]"
      ]
     },
     "execution_count": 155,
     "metadata": {},
     "output_type": "execute_result"
    }
   ],
   "source": [
    "%%sql\n",
    "DROP TABLE IF EXISTS NV_NP_MASTER1;\n",
    "--- Create NV_NP_MASTER1 table\n",
    "CREATE TABLE NV_NP_MASTER1 AS\n",
    "SELECT NV, NP, QTE\n",
    "FROM MASTER1\n",
    "WHERE NV IS NOT NULL AND NP IS NOT NULL;\n",
    "\n",
    "DROP TABLE IF EXISTS NV_MASTER1;\n",
    "--- Create NV_MASTER1 table\n",
    "CREATE TABLE NV_MASTER1 AS\n",
    "SELECT DISTINCT NV, CRU, DEGRE, MILL\n",
    "FROM MASTER1\n",
    "WHERE NV IS NOT NULL;\n",
    "\n",
    "DROP TABLE IF EXISTS NP_MASTER1;\n",
    "--- Create NP_MASTER1 table\n",
    "CREATE TABLE NP_MASTER1 AS\n",
    "SELECT DISTINCT NP, NOM, PRENOM, REGION\n",
    "FROM MASTER1\n",
    "WHERE NP IS NOT NULL;\n",
    "\n",
    "DROP TABLE IF EXISTS NV_NB_DATES_MASTER2;\n",
    "--- Create NV_NB_DATES_MASTER2 table\n",
    "CREATE TABLE NV_NB_DATES_MASTER2 AS\n",
    "SELECT NV, NB, DATES, QTE, LIEU, REGION\n",
    "FROM MASTER2\n",
    "WHERE NV IS NOT NULL AND NB IS NOT NULL AND DATES IS NOT NULL;\n",
    "\n",
    "DROP TABLE IF EXISTS NV_MASTER2;\n",
    "--- Create NV_MASTER2 table\n",
    "CREATE TABLE NV_MASTER2 AS\n",
    "SELECT DISTINCT NV, CRU, DEGRE, MILL\n",
    "FROM MASTER2\n",
    "WHERE NV IS NOT NULL;\n",
    "\n",
    "DROP TABLE IF EXISTS NB_MASTER2;\n",
    "--- Create NB_MASTER2 table\n",
    "CREATE TABLE NB_MASTER2 AS\n",
    "SELECT DISTINCT NB, NOM, PRENOM, TYPE\n",
    "FROM MASTER2\n",
    "WHERE NB IS NOT NULL;"
   ]
  },
  {
   "cell_type": "markdown",
   "metadata": {},
   "source": [
    "___\n",
    "# PART I: CREATE AND USE VIEWS\n",
    "\n",
    "A view is a virtual table based on the result-set of an SQL statement. Views are stored in the database with an associated name.\n",
    "\n",
    "Views are created following the syntax:\n",
    "\n",
    "```mysql\n",
    "CREATE VIEW view_name AS\n",
    "SELECT column1, column2.....\n",
    "FROM table_name\n",
    "WHERE [condition];\n",
    "```\n",
    "\n",
    "An useful command:\n",
    "\n",
    "```mysql\n",
    "DROP VIEW IF EXISTS view_name;\n",
    "```\n",
    "\n",
    "\n",
    "__Warning:__ Use `DROP` with caution (only drop something if you are sure)\n",
    "\n",
    "__Note:__ You will find some cells marked as \"Test\" that will help you check your work. Do NOT modify them. "
   ]
  },
  {
   "cell_type": "markdown",
   "metadata": {},
   "source": [
    "#### Exercise 1.1\n",
    "\n",
    "Create a view \"**bons_buveurs**\" with the clients (buveurs) of type 'gros' or 'moyen'."
   ]
  },
  {
   "cell_type": "code",
   "execution_count": 156,
   "metadata": {},
   "outputs": [
    {
     "name": "stdout",
     "output_type": "stream",
     "text": [
      "Done.\n",
      "Done.\n"
     ]
    },
    {
     "data": {
      "text/plain": [
       "[]"
      ]
     },
     "execution_count": 156,
     "metadata": {},
     "output_type": "execute_result"
    }
   ],
   "source": [
    "%%sql\n",
    "DROP VIEW IF EXISTS bons_buveurs;\n",
    "CREATE VIEW bons_buveurs AS\n",
    "SELECT NB, NOM, PRENOM, TYPE\n",
    "FROM NB_MASTER2\n",
    "WHERE TYPE IN ('gros', 'moyen');"
   ]
  },
  {
   "cell_type": "code",
   "execution_count": 157,
   "metadata": {
    "scrolled": true
   },
   "outputs": [
    {
     "name": "stdout",
     "output_type": "stream",
     "text": [
      "Done.\n"
     ]
    },
    {
     "data": {
      "text/html": [
       "<table>\n",
       "    <tr>\n",
       "        <th>NB</th>\n",
       "        <th>NOM</th>\n",
       "        <th>PRENOM</th>\n",
       "        <th>TYPE</th>\n",
       "    </tr>\n",
       "    <tr>\n",
       "        <td>2</td>\n",
       "        <td>Artaud</td>\n",
       "        <td>Antonin</td>\n",
       "        <td>moyen</td>\n",
       "    </tr>\n",
       "    <tr>\n",
       "        <td>3</td>\n",
       "        <td>Aron</td>\n",
       "        <td>Raymond</td>\n",
       "        <td>gros</td>\n",
       "    </tr>\n",
       "    <tr>\n",
       "        <td>4</td>\n",
       "        <td>Apollinaire</td>\n",
       "        <td>Guillaume</td>\n",
       "        <td>moyen</td>\n",
       "    </tr>\n",
       "    <tr>\n",
       "        <td>6</td>\n",
       "        <td>Arrabal</td>\n",
       "        <td>Fernando</td>\n",
       "        <td>gros</td>\n",
       "    </tr>\n",
       "    <tr>\n",
       "        <td>7</td>\n",
       "        <td>Anouilh</td>\n",
       "        <td>Jean</td>\n",
       "        <td>moyen</td>\n",
       "    </tr>\n",
       "</table>"
      ],
      "text/plain": [
       "[(2, 'Artaud', 'Antonin', 'moyen'),\n",
       " (3, 'Aron', 'Raymond', 'gros'),\n",
       " (4, 'Apollinaire', 'Guillaume', 'moyen'),\n",
       " (6, 'Arrabal', 'Fernando', 'gros'),\n",
       " (7, 'Anouilh', 'Jean', 'moyen')]"
      ]
     },
     "execution_count": 157,
     "metadata": {},
     "output_type": "execute_result"
    }
   ],
   "source": [
    "# Test\n",
    "%sql SELECT * FROM bons_buveurs ORDER BY nb LIMIT 5;"
   ]
  },
  {
   "cell_type": "markdown",
   "metadata": {},
   "source": [
    "#### Exercise 1.2\n",
    "\n",
    "Create the view \"**buveurs_asec**\" with clients (buveurs) who have not bought any wine."
   ]
  },
  {
   "cell_type": "code",
   "execution_count": 158,
   "metadata": {},
   "outputs": [
    {
     "name": "stdout",
     "output_type": "stream",
     "text": [
      "Done.\n",
      "Done.\n"
     ]
    },
    {
     "data": {
      "text/plain": [
       "[]"
      ]
     },
     "execution_count": 158,
     "metadata": {},
     "output_type": "execute_result"
    }
   ],
   "source": [
    "%%sql\n",
    "DROP VIEW IF EXISTS buveurs_asec;\n",
    "CREATE VIEW buveurs_asec AS\n",
    "SELECT NB_MASTER2.NB, NOM, PRENOM, TYPE\n",
    "FROM NB_MASTER2\n",
    "LEFT JOIN NV_NB_DATES_MASTER2 ON NV_NB_DATES_MASTER2.NB=NB_MASTER2.NB\n",
    "WHERE QTE IS NULL"
   ]
  },
  {
   "cell_type": "code",
   "execution_count": 159,
   "metadata": {
    "scrolled": true
   },
   "outputs": [
    {
     "name": "stdout",
     "output_type": "stream",
     "text": [
      "Done.\n"
     ]
    },
    {
     "data": {
      "text/html": [
       "<table>\n",
       "    <tr>\n",
       "        <th>NB</th>\n",
       "        <th>NOM</th>\n",
       "        <th>PRENOM</th>\n",
       "        <th>TYPE</th>\n",
       "    </tr>\n",
       "    <tr>\n",
       "        <td>11</td>\n",
       "        <td>Breton</td>\n",
       "        <td>Andre</td>\n",
       "        <td>petit</td>\n",
       "    </tr>\n",
       "    <tr>\n",
       "        <td>13</td>\n",
       "        <td>Barthes</td>\n",
       "        <td>Roland</td>\n",
       "        <td>moyen</td>\n",
       "    </tr>\n",
       "    <tr>\n",
       "        <td>16</td>\n",
       "        <td>Balzac</td>\n",
       "        <td>Honore de</td>\n",
       "        <td>moyen</td>\n",
       "    </tr>\n",
       "    <tr>\n",
       "        <td>18</td>\n",
       "        <td>Celine</td>\n",
       "        <td>Louis Ferdinand</td>\n",
       "        <td>gros</td>\n",
       "    </tr>\n",
       "    <tr>\n",
       "        <td>20</td>\n",
       "        <td>Chateaubriand</td>\n",
       "        <td>Francois-Rene de</td>\n",
       "        <td>moyen</td>\n",
       "    </tr>\n",
       "</table>"
      ],
      "text/plain": [
       "[(11, 'Breton', 'Andre', 'petit'),\n",
       " (13, 'Barthes', 'Roland', 'moyen'),\n",
       " (16, 'Balzac', 'Honore de', 'moyen'),\n",
       " (18, 'Celine', 'Louis Ferdinand', 'gros'),\n",
       " (20, 'Chateaubriand', 'Francois-Rene de', 'moyen')]"
      ]
     },
     "execution_count": 159,
     "metadata": {},
     "output_type": "execute_result"
    }
   ],
   "source": [
    "# Test\n",
    "%sql SELECT * FROM buveurs_asec ORDER BY nb LIMIT 5;"
   ]
  },
  {
   "cell_type": "markdown",
   "metadata": {},
   "source": [
    "#### Exercise 1.3\n",
    "\n",
    "Create the view \"**buveurs_achats**\" complementary to the previous one."
   ]
  },
  {
   "cell_type": "code",
   "execution_count": 160,
   "metadata": {},
   "outputs": [
    {
     "name": "stdout",
     "output_type": "stream",
     "text": [
      "Done.\n",
      "Done.\n"
     ]
    },
    {
     "data": {
      "text/plain": [
       "[]"
      ]
     },
     "execution_count": 160,
     "metadata": {},
     "output_type": "execute_result"
    }
   ],
   "source": [
    "%%sql\n",
    "DROP VIEW IF EXISTS buveurs_achats;\n",
    "CREATE VIEW buveurs_achats AS\n",
    "SELECT NB, NOM, PRENOM, TYPE\n",
    "FROM NB_MASTER2\n",
    "EXCEPT\n",
    "SELECT NB_MASTER2.NB, NOM, PRENOM, TYPE\n",
    "FROM NB_MASTER2\n",
    "LEFT JOIN NV_NB_DATES_MASTER2 ON NV_NB_DATES_MASTER2.NB=NB_MASTER2.NB\n",
    "WHERE QTE IS NULL"
   ]
  },
  {
   "cell_type": "code",
   "execution_count": 161,
   "metadata": {
    "scrolled": true
   },
   "outputs": [
    {
     "name": "stdout",
     "output_type": "stream",
     "text": [
      "Done.\n"
     ]
    },
    {
     "data": {
      "text/html": [
       "<table>\n",
       "    <tr>\n",
       "        <th>NB</th>\n",
       "        <th>NOM</th>\n",
       "        <th>PRENOM</th>\n",
       "        <th>TYPE</th>\n",
       "    </tr>\n",
       "    <tr>\n",
       "        <td>1</td>\n",
       "        <td>Aristote</td>\n",
       "        <td>None</td>\n",
       "        <td>petit</td>\n",
       "    </tr>\n",
       "    <tr>\n",
       "        <td>2</td>\n",
       "        <td>Artaud</td>\n",
       "        <td>Antonin</td>\n",
       "        <td>moyen</td>\n",
       "    </tr>\n",
       "    <tr>\n",
       "        <td>3</td>\n",
       "        <td>Aron</td>\n",
       "        <td>Raymond</td>\n",
       "        <td>gros</td>\n",
       "    </tr>\n",
       "    <tr>\n",
       "        <td>4</td>\n",
       "        <td>Apollinaire</td>\n",
       "        <td>Guillaume</td>\n",
       "        <td>moyen</td>\n",
       "    </tr>\n",
       "    <tr>\n",
       "        <td>5</td>\n",
       "        <td>Audiberti</td>\n",
       "        <td>Jacques</td>\n",
       "        <td>petit</td>\n",
       "    </tr>\n",
       "</table>"
      ],
      "text/plain": [
       "[(1, 'Aristote', None, 'petit'),\n",
       " (2, 'Artaud', 'Antonin', 'moyen'),\n",
       " (3, 'Aron', 'Raymond', 'gros'),\n",
       " (4, 'Apollinaire', 'Guillaume', 'moyen'),\n",
       " (5, 'Audiberti', 'Jacques', 'petit')]"
      ]
     },
     "execution_count": 161,
     "metadata": {},
     "output_type": "execute_result"
    }
   ],
   "source": [
    "# Test\n",
    "%sql SELECT * FROM buveurs_achats ORDER BY nb LIMIT 5;"
   ]
  },
  {
   "cell_type": "markdown",
   "metadata": {},
   "source": [
    "#### Exercise 1.4\n",
    "\n",
    "Create the view \"**q83pl**\" (LIEU, CRU, QTE_BUE) that provides by LIEU and CRU the total quantities bought in 1983 by all the clients (buveurs)."
   ]
  },
  {
   "cell_type": "code",
   "execution_count": 162,
   "metadata": {},
   "outputs": [
    {
     "name": "stdout",
     "output_type": "stream",
     "text": [
      "Done.\n",
      "Done.\n"
     ]
    },
    {
     "data": {
      "text/plain": [
       "[]"
      ]
     },
     "execution_count": 162,
     "metadata": {},
     "output_type": "execute_result"
    }
   ],
   "source": [
    "%%sql\n",
    "DROP VIEW IF EXISTS q83pl;\n",
    "CREATE VIEW q83pl AS\n",
    "SELECT LIEU, CRU, SUM(QTE) AS QTE_BUE, DATES\n",
    "FROM NV_NB_DATES_MASTER2\n",
    "INNER JOIN NV_MASTER2 ON NV_MASTER2.NV=NV_NB_DATES_MASTER2.NV\n",
    "WHERE DATES LIKE '1983%'\n",
    "GROUP BY LIEU, CRU;"
   ]
  },
  {
   "cell_type": "code",
   "execution_count": 163,
   "metadata": {
    "scrolled": false
   },
   "outputs": [
    {
     "name": "stdout",
     "output_type": "stream",
     "text": [
      "Done.\n"
     ]
    },
    {
     "data": {
      "text/html": [
       "<table>\n",
       "    <tr>\n",
       "        <th>LIEU</th>\n",
       "        <th>CRU</th>\n",
       "        <th>QTE_BUE</th>\n",
       "        <th>DATES</th>\n",
       "    </tr>\n",
       "    <tr>\n",
       "        <td>CAEN</td>\n",
       "        <td>Seyssel</td>\n",
       "        <td>3</td>\n",
       "        <td>1983-02-21</td>\n",
       "    </tr>\n",
       "    <tr>\n",
       "        <td>LILLE</td>\n",
       "        <td>Pommard</td>\n",
       "        <td>5</td>\n",
       "        <td>1983-06-29</td>\n",
       "    </tr>\n",
       "    <tr>\n",
       "        <td>LYON</td>\n",
       "        <td>Beaujolais Villages</td>\n",
       "        <td>10</td>\n",
       "        <td>1983-06-06</td>\n",
       "    </tr>\n",
       "    <tr>\n",
       "        <td>LYON</td>\n",
       "        <td>Julienas</td>\n",
       "        <td>2</td>\n",
       "        <td>1983-12-25</td>\n",
       "    </tr>\n",
       "    <tr>\n",
       "        <td>PARIS</td>\n",
       "        <td>Beaujolais Primeur</td>\n",
       "        <td>4</td>\n",
       "        <td>1983-03-10</td>\n",
       "    </tr>\n",
       "    <tr>\n",
       "        <td>PARIS</td>\n",
       "        <td>Coteaux du Tricastin</td>\n",
       "        <td>1</td>\n",
       "        <td>1983-12-31</td>\n",
       "    </tr>\n",
       "    <tr>\n",
       "        <td>PARIS</td>\n",
       "        <td>Pouilly Vinzelles</td>\n",
       "        <td>3</td>\n",
       "        <td>1983-02-14</td>\n",
       "    </tr>\n",
       "    <tr>\n",
       "        <td>RENNES</td>\n",
       "        <td>Mercurey</td>\n",
       "        <td>1</td>\n",
       "        <td>1983-12-31</td>\n",
       "    </tr>\n",
       "    <tr>\n",
       "        <td>ROCQUENCOURT</td>\n",
       "        <td>Beaujolais Villages</td>\n",
       "        <td>260</td>\n",
       "        <td>1983-05-05</td>\n",
       "    </tr>\n",
       "    <tr>\n",
       "        <td>ROCQUENCOURT</td>\n",
       "        <td>Saint Amour</td>\n",
       "        <td>80</td>\n",
       "        <td>1983-05-05</td>\n",
       "    </tr>\n",
       "</table>"
      ],
      "text/plain": [
       "[('CAEN', 'Seyssel', 3, '1983-02-21'),\n",
       " ('LILLE', 'Pommard', 5, '1983-06-29'),\n",
       " ('LYON', 'Beaujolais Villages', 10, '1983-06-06'),\n",
       " ('LYON', 'Julienas', 2, '1983-12-25'),\n",
       " ('PARIS', 'Beaujolais Primeur', 4, '1983-03-10'),\n",
       " ('PARIS', 'Coteaux du Tricastin', 1, '1983-12-31'),\n",
       " ('PARIS', 'Pouilly Vinzelles', 3, '1983-02-14'),\n",
       " ('RENNES', 'Mercurey', 1, '1983-12-31'),\n",
       " ('ROCQUENCOURT', 'Beaujolais Villages', 260, '1983-05-05'),\n",
       " ('ROCQUENCOURT', 'Saint Amour', 80, '1983-05-05')]"
      ]
     },
     "execution_count": 163,
     "metadata": {},
     "output_type": "execute_result"
    }
   ],
   "source": [
    "# Test\n",
    "%sql SELECT * FROM q83pl;"
   ]
  },
  {
   "cell_type": "markdown",
   "metadata": {},
   "source": [
    "#### Exercise 1.5\n",
    "\n",
    "Can we define the same view with ascending order over the attribute \"QTE\"? Provide an explanation for your answer."
   ]
  },
  {
   "cell_type": "raw",
   "metadata": {},
   "source": [
    "Answer: Yes, we can define the same view with ascending order over the attribute QTE. Because in our SQL query, we have attribute QTE, LIEU which come from the table achats and CRU comes from the table vins which is joined to achats on the v.NV = a.NV in an only way. So each record grouped by LIEU and CRU can be identified by attribute QTE in an only way."
   ]
  },
  {
   "cell_type": "markdown",
   "metadata": {},
   "source": [
    "___\n",
    "# PART II: UPDATE DATABASE CONTENT\n",
    "\n",
    "The syntax for the `UPDATE` operation is:\n",
    "\n",
    "```sql\n",
    "UPDATE table_name\n",
    "SET column1 = value1, column2 = value2...., columnN = valueN\n",
    "WHERE [condition];\n",
    "```\n",
    "\n",
    "The syntax for the `INSERT` operation is:\n",
    "\n",
    "```sql\n",
    "INSERT INTO table_name [(column1, column2, column3,...columnN)]  \n",
    "VALUES (value1, value2, value3,...valueN);\n",
    "```\n",
    "\n",
    "Database updates are commited automatically in Jupyter/Python. _Transactions_ are an option to control and reverse changes. Additionally we can just reload a backup of the database (NOT an option in deployed systems)\n",
    "\n",
    "__Note:__ Different to other Database Management Systems, SQLite views are read-only and so you can not execute a `DELETE`, `INSERT` or `UPDATE` statement on a view."
   ]
  },
  {
   "cell_type": "markdown",
   "metadata": {},
   "source": [
    "#### Exercise 2.1\n",
    "\n",
    "Create a table \"**RBB**\" with the same schema as \"**bons_buveurs**\" which contains the tuples selected from \"**bons_buveurs**\""
   ]
  },
  {
   "cell_type": "code",
   "execution_count": 164,
   "metadata": {},
   "outputs": [
    {
     "name": "stdout",
     "output_type": "stream",
     "text": [
      "Done.\n",
      "Done.\n"
     ]
    },
    {
     "data": {
      "text/plain": [
       "[]"
      ]
     },
     "execution_count": 164,
     "metadata": {},
     "output_type": "execute_result"
    }
   ],
   "source": [
    "%%sql\n",
    "DROP TABLE IF EXISTS RBB;\n",
    "--- Create RBB table\n",
    "CREATE TABLE RBB AS\n",
    "SELECT *\n",
    "FROM bons_buveurs;"
   ]
  },
  {
   "cell_type": "code",
   "execution_count": 165,
   "metadata": {
    "scrolled": true
   },
   "outputs": [
    {
     "name": "stdout",
     "output_type": "stream",
     "text": [
      "Done.\n"
     ]
    },
    {
     "data": {
      "text/html": [
       "<table>\n",
       "    <tr>\n",
       "        <th>NB</th>\n",
       "        <th>NOM</th>\n",
       "        <th>PRENOM</th>\n",
       "        <th>TYPE</th>\n",
       "    </tr>\n",
       "    <tr>\n",
       "        <td>13</td>\n",
       "        <td>Barthes</td>\n",
       "        <td>Roland</td>\n",
       "        <td>moyen</td>\n",
       "    </tr>\n",
       "    <tr>\n",
       "        <td>16</td>\n",
       "        <td>Balzac</td>\n",
       "        <td>Honore de</td>\n",
       "        <td>moyen</td>\n",
       "    </tr>\n",
       "    <tr>\n",
       "        <td>18</td>\n",
       "        <td>Celine</td>\n",
       "        <td>Louis Ferdinand</td>\n",
       "        <td>gros</td>\n",
       "    </tr>\n",
       "    <tr>\n",
       "        <td>20</td>\n",
       "        <td>Chateaubriand</td>\n",
       "        <td>Francois-Rene de</td>\n",
       "        <td>moyen</td>\n",
       "    </tr>\n",
       "    <tr>\n",
       "        <td>27</td>\n",
       "        <td>Dumas</td>\n",
       "        <td>Alexandre</td>\n",
       "        <td>gros</td>\n",
       "    </tr>\n",
       "</table>"
      ],
      "text/plain": [
       "[(13, 'Barthes', 'Roland', 'moyen'),\n",
       " (16, 'Balzac', 'Honore de', 'moyen'),\n",
       " (18, 'Celine', 'Louis Ferdinand', 'gros'),\n",
       " (20, 'Chateaubriand', 'Francois-Rene de', 'moyen'),\n",
       " (27, 'Dumas', 'Alexandre', 'gros')]"
      ]
     },
     "execution_count": 165,
     "metadata": {},
     "output_type": "execute_result"
    }
   ],
   "source": [
    "# Test\n",
    "%sql SELECT * FROM RBB LIMIT 5;"
   ]
  },
  {
   "cell_type": "markdown",
   "metadata": {},
   "source": [
    "#### Exercise 2.2\n",
    "\n",
    "Update the table you used to create \"**bons_buveurs**\": Change the \"type\" to 'gros' if the total of quantities bought is over 100."
   ]
  },
  {
   "cell_type": "markdown",
   "metadata": {},
   "source": [
    "Find the instances to update (schema may differ from the one in your table)"
   ]
  },
  {
   "cell_type": "code",
   "execution_count": 166,
   "metadata": {},
   "outputs": [
    {
     "name": "stdout",
     "output_type": "stream",
     "text": [
      "Done.\n"
     ]
    },
    {
     "data": {
      "text/html": [
       "<table>\n",
       "    <tr>\n",
       "        <th>NB</th>\n",
       "        <th>NOM</th>\n",
       "        <th>PRENOM</th>\n",
       "        <th>TYPE</th>\n",
       "        <th>SUM(QTE)</th>\n",
       "    </tr>\n",
       "    <tr>\n",
       "        <td>2</td>\n",
       "        <td>Artaud</td>\n",
       "        <td>Antonin</td>\n",
       "        <td>moyen</td>\n",
       "        <td>583</td>\n",
       "    </tr>\n",
       "    <tr>\n",
       "        <td>5</td>\n",
       "        <td>Audiberti</td>\n",
       "        <td>Jacques</td>\n",
       "        <td>petit</td>\n",
       "        <td>113</td>\n",
       "    </tr>\n",
       "    <tr>\n",
       "        <td>9</td>\n",
       "        <td>Ajar</td>\n",
       "        <td>Emile</td>\n",
       "        <td>petit</td>\n",
       "        <td>140</td>\n",
       "    </tr>\n",
       "    <tr>\n",
       "        <td>44</td>\n",
       "        <td>Gide</td>\n",
       "        <td>Andre</td>\n",
       "        <td>petit</td>\n",
       "        <td>171</td>\n",
       "    </tr>\n",
       "</table>"
      ],
      "text/plain": [
       "[(2, 'Artaud', 'Antonin', 'moyen', 583),\n",
       " (5, 'Audiberti', 'Jacques', 'petit', 113),\n",
       " (9, 'Ajar', 'Emile', 'petit', 140),\n",
       " (44, 'Gide', 'Andre', 'petit', 171)]"
      ]
     },
     "execution_count": 166,
     "metadata": {},
     "output_type": "execute_result"
    }
   ],
   "source": [
    "%%sql\n",
    "SELECT NB_MASTER2.NB, NOM, PRENOM, TYPE, SUM(QTE)\n",
    "FROM NB_MASTER2\n",
    "INNER JOIN NV_NB_DATES_MASTER2 ON NV_NB_DATES_MASTER2.NB=NB_MASTER2.NB\n",
    "GROUP BY NB_MASTER2.NB HAVING SUM(QTE)>100 AND TYPE!='gros';"
   ]
  },
  {
   "cell_type": "markdown",
   "metadata": {},
   "source": [
    "Update instances"
   ]
  },
  {
   "cell_type": "code",
   "execution_count": 167,
   "metadata": {},
   "outputs": [
    {
     "name": "stdout",
     "output_type": "stream",
     "text": [
      "4 rows affected.\n"
     ]
    },
    {
     "data": {
      "text/plain": [
       "[]"
      ]
     },
     "execution_count": 167,
     "metadata": {},
     "output_type": "execute_result"
    }
   ],
   "source": [
    "%%sql\n",
    "UPDATE NB_MASTER2\n",
    "SET TYPE = 'gros'\n",
    "WHERE NB IN (SELECT NB_MASTER2.NB\n",
    "            FROM NB_MASTER2\n",
    "            INNER JOIN NV_NB_DATES_MASTER2 ON NV_NB_DATES_MASTER2.NB=NB_MASTER2.NB\n",
    "            GROUP BY NB_MASTER2.NB HAVING SUM(QTE)>100 AND TYPE!='gros')"
   ]
  },
  {
   "cell_type": "markdown",
   "metadata": {},
   "source": [
    "#### Exercise 2.3\n",
    "\n",
    "Compare the content of _table_ \"**RBB**\" and the _view_ \"**bons_buveurs**\" after the update. What differences do you see? Explain"
   ]
  },
  {
   "cell_type": "markdown",
   "metadata": {},
   "source": [
    "> **Answer:** The view have been modified but not the table. As we can see below the TYPE of rows with NB 2,5,9 and 44 have been modified in the view bons_buveurs."
   ]
  },
  {
   "cell_type": "code",
   "execution_count": 168,
   "metadata": {
    "scrolled": true
   },
   "outputs": [
    {
     "name": "stdout",
     "output_type": "stream",
     "text": [
      "Done.\n"
     ]
    },
    {
     "data": {
      "text/html": [
       "<table>\n",
       "    <tr>\n",
       "        <th>NB</th>\n",
       "        <th>NOM</th>\n",
       "        <th>PRENOM</th>\n",
       "        <th>TYPE</th>\n",
       "    </tr>\n",
       "    <tr>\n",
       "        <td>13</td>\n",
       "        <td>Barthes</td>\n",
       "        <td>Roland</td>\n",
       "        <td>moyen</td>\n",
       "    </tr>\n",
       "    <tr>\n",
       "        <td>16</td>\n",
       "        <td>Balzac</td>\n",
       "        <td>Honore de</td>\n",
       "        <td>moyen</td>\n",
       "    </tr>\n",
       "    <tr>\n",
       "        <td>18</td>\n",
       "        <td>Celine</td>\n",
       "        <td>Louis Ferdinand</td>\n",
       "        <td>gros</td>\n",
       "    </tr>\n",
       "    <tr>\n",
       "        <td>20</td>\n",
       "        <td>Chateaubriand</td>\n",
       "        <td>Francois-Rene de</td>\n",
       "        <td>moyen</td>\n",
       "    </tr>\n",
       "    <tr>\n",
       "        <td>27</td>\n",
       "        <td>Dumas</td>\n",
       "        <td>Alexandre</td>\n",
       "        <td>gros</td>\n",
       "    </tr>\n",
       "</table>"
      ],
      "text/plain": [
       "[(13, 'Barthes', 'Roland', 'moyen'),\n",
       " (16, 'Balzac', 'Honore de', 'moyen'),\n",
       " (18, 'Celine', 'Louis Ferdinand', 'gros'),\n",
       " (20, 'Chateaubriand', 'Francois-Rene de', 'moyen'),\n",
       " (27, 'Dumas', 'Alexandre', 'gros')]"
      ]
     },
     "execution_count": 168,
     "metadata": {},
     "output_type": "execute_result"
    }
   ],
   "source": [
    "%%sql\n",
    "SELECT * \n",
    "FROM bons_buveurs\n",
    "LIMIT 5;"
   ]
  },
  {
   "cell_type": "code",
   "execution_count": 169,
   "metadata": {},
   "outputs": [
    {
     "name": "stdout",
     "output_type": "stream",
     "text": [
      "Done.\n"
     ]
    },
    {
     "data": {
      "text/html": [
       "<table>\n",
       "    <tr>\n",
       "        <th>NB</th>\n",
       "        <th>NOM</th>\n",
       "        <th>PRENOM</th>\n",
       "        <th>TYPE</th>\n",
       "    </tr>\n",
       "    <tr>\n",
       "        <td>13</td>\n",
       "        <td>Barthes</td>\n",
       "        <td>Roland</td>\n",
       "        <td>moyen</td>\n",
       "    </tr>\n",
       "    <tr>\n",
       "        <td>16</td>\n",
       "        <td>Balzac</td>\n",
       "        <td>Honore de</td>\n",
       "        <td>moyen</td>\n",
       "    </tr>\n",
       "    <tr>\n",
       "        <td>18</td>\n",
       "        <td>Celine</td>\n",
       "        <td>Louis Ferdinand</td>\n",
       "        <td>gros</td>\n",
       "    </tr>\n",
       "    <tr>\n",
       "        <td>20</td>\n",
       "        <td>Chateaubriand</td>\n",
       "        <td>Francois-Rene de</td>\n",
       "        <td>moyen</td>\n",
       "    </tr>\n",
       "    <tr>\n",
       "        <td>27</td>\n",
       "        <td>Dumas</td>\n",
       "        <td>Alexandre</td>\n",
       "        <td>gros</td>\n",
       "    </tr>\n",
       "</table>"
      ],
      "text/plain": [
       "[(13, 'Barthes', 'Roland', 'moyen'),\n",
       " (16, 'Balzac', 'Honore de', 'moyen'),\n",
       " (18, 'Celine', 'Louis Ferdinand', 'gros'),\n",
       " (20, 'Chateaubriand', 'Francois-Rene de', 'moyen'),\n",
       " (27, 'Dumas', 'Alexandre', 'gros')]"
      ]
     },
     "execution_count": 169,
     "metadata": {},
     "output_type": "execute_result"
    }
   ],
   "source": [
    "%%sql\n",
    "SELECT * \n",
    "FROM RBB\n",
    "LIMIT 5;"
   ]
  },
  {
   "cell_type": "markdown",
   "metadata": {},
   "source": [
    "#### Exercise 2.4\n",
    "\n",
    "Create a table \"**RBA**\" with the same schema as \"**buveurs_asec**\" which contains the tuples selected from \"**buveurs_asec**\""
   ]
  },
  {
   "cell_type": "code",
   "execution_count": 170,
   "metadata": {},
   "outputs": [
    {
     "name": "stdout",
     "output_type": "stream",
     "text": [
      "Done.\n",
      "Done.\n"
     ]
    },
    {
     "data": {
      "text/plain": [
       "[]"
      ]
     },
     "execution_count": 170,
     "metadata": {},
     "output_type": "execute_result"
    }
   ],
   "source": [
    "%%sql\n",
    "DROP TABLE IF EXISTS RBA;\n",
    "--- Create RBA table\n",
    "CREATE TABLE RBA AS\n",
    "SELECT *\n",
    "FROM buveurs_asec;"
   ]
  },
  {
   "cell_type": "code",
   "execution_count": 171,
   "metadata": {
    "scrolled": true
   },
   "outputs": [
    {
     "name": "stdout",
     "output_type": "stream",
     "text": [
      "Done.\n"
     ]
    },
    {
     "data": {
      "text/html": [
       "<table>\n",
       "    <tr>\n",
       "        <th>NB</th>\n",
       "        <th>NOM</th>\n",
       "        <th>PRENOM</th>\n",
       "        <th>TYPE</th>\n",
       "    </tr>\n",
       "    <tr>\n",
       "        <td>11</td>\n",
       "        <td>Breton</td>\n",
       "        <td>Andre</td>\n",
       "        <td>petit</td>\n",
       "    </tr>\n",
       "    <tr>\n",
       "        <td>13</td>\n",
       "        <td>Barthes</td>\n",
       "        <td>Roland</td>\n",
       "        <td>moyen</td>\n",
       "    </tr>\n",
       "    <tr>\n",
       "        <td>16</td>\n",
       "        <td>Balzac</td>\n",
       "        <td>Honore de</td>\n",
       "        <td>moyen</td>\n",
       "    </tr>\n",
       "    <tr>\n",
       "        <td>18</td>\n",
       "        <td>Celine</td>\n",
       "        <td>Louis Ferdinand</td>\n",
       "        <td>gros</td>\n",
       "    </tr>\n",
       "    <tr>\n",
       "        <td>20</td>\n",
       "        <td>Chateaubriand</td>\n",
       "        <td>Francois-Rene de</td>\n",
       "        <td>moyen</td>\n",
       "    </tr>\n",
       "</table>"
      ],
      "text/plain": [
       "[(11, 'Breton', 'Andre', 'petit'),\n",
       " (13, 'Barthes', 'Roland', 'moyen'),\n",
       " (16, 'Balzac', 'Honore de', 'moyen'),\n",
       " (18, 'Celine', 'Louis Ferdinand', 'gros'),\n",
       " (20, 'Chateaubriand', 'Francois-Rene de', 'moyen')]"
      ]
     },
     "execution_count": 171,
     "metadata": {},
     "output_type": "execute_result"
    }
   ],
   "source": [
    "# Test\n",
    "%sql SELECT * FROM RBA LIMIT 5;"
   ]
  },
  {
   "cell_type": "markdown",
   "metadata": {},
   "source": [
    "#### Exercise 2.5\n",
    "\n",
    "Insert a tuple (101, 'your last name', 'your first name', 'your type of purchases(petit, moyen, or gros)') to \"**RBA**\"."
   ]
  },
  {
   "cell_type": "code",
   "execution_count": 172,
   "metadata": {},
   "outputs": [
    {
     "name": "stdout",
     "output_type": "stream",
     "text": [
      "1 rows affected.\n"
     ]
    },
    {
     "data": {
      "text/plain": [
       "[]"
      ]
     },
     "execution_count": 172,
     "metadata": {},
     "output_type": "execute_result"
    }
   ],
   "source": [
    "%%sql\n",
    "INSERT INTO RBA (NB, NOM, PRENOM, TYPE)\n",
    "VALUES (101, 'Lim', 'Pascal', 'petit');"
   ]
  },
  {
   "cell_type": "code",
   "execution_count": 173,
   "metadata": {
    "scrolled": true
   },
   "outputs": [
    {
     "name": "stdout",
     "output_type": "stream",
     "text": [
      "Done.\n"
     ]
    },
    {
     "data": {
      "text/html": [
       "<table>\n",
       "    <tr>\n",
       "        <th>NB</th>\n",
       "        <th>NOM</th>\n",
       "        <th>PRENOM</th>\n",
       "        <th>TYPE</th>\n",
       "    </tr>\n",
       "    <tr>\n",
       "        <td>11</td>\n",
       "        <td>Breton</td>\n",
       "        <td>Andre</td>\n",
       "        <td>petit</td>\n",
       "    </tr>\n",
       "    <tr>\n",
       "        <td>13</td>\n",
       "        <td>Barthes</td>\n",
       "        <td>Roland</td>\n",
       "        <td>moyen</td>\n",
       "    </tr>\n",
       "    <tr>\n",
       "        <td>16</td>\n",
       "        <td>Balzac</td>\n",
       "        <td>Honore de</td>\n",
       "        <td>moyen</td>\n",
       "    </tr>\n",
       "    <tr>\n",
       "        <td>18</td>\n",
       "        <td>Celine</td>\n",
       "        <td>Louis Ferdinand</td>\n",
       "        <td>gros</td>\n",
       "    </tr>\n",
       "    <tr>\n",
       "        <td>20</td>\n",
       "        <td>Chateaubriand</td>\n",
       "        <td>Francois-Rene de</td>\n",
       "        <td>moyen</td>\n",
       "    </tr>\n",
       "    <tr>\n",
       "        <td>21</td>\n",
       "        <td>Corbiere</td>\n",
       "        <td>Tristan</td>\n",
       "        <td>petit</td>\n",
       "    </tr>\n",
       "    <tr>\n",
       "        <td>23</td>\n",
       "        <td>Corneille</td>\n",
       "        <td>Pierre</td>\n",
       "        <td>petit</td>\n",
       "    </tr>\n",
       "    <tr>\n",
       "        <td>25</td>\n",
       "        <td>Char</td>\n",
       "        <td>Rene</td>\n",
       "        <td>petit</td>\n",
       "    </tr>\n",
       "    <tr>\n",
       "        <td>27</td>\n",
       "        <td>Dumas</td>\n",
       "        <td>Alexandre</td>\n",
       "        <td>gros</td>\n",
       "    </tr>\n",
       "    <tr>\n",
       "        <td>29</td>\n",
       "        <td>Fournier</td>\n",
       "        <td>Alain</td>\n",
       "        <td>petit</td>\n",
       "    </tr>\n",
       "    <tr>\n",
       "        <td>32</td>\n",
       "        <td>Eluard</td>\n",
       "        <td>Paul</td>\n",
       "        <td>moyen</td>\n",
       "    </tr>\n",
       "    <tr>\n",
       "        <td>34</td>\n",
       "        <td>Mauriac</td>\n",
       "        <td>Francois</td>\n",
       "        <td>petit</td>\n",
       "    </tr>\n",
       "    <tr>\n",
       "        <td>35</td>\n",
       "        <td>Fromentin</td>\n",
       "        <td>Eugene</td>\n",
       "        <td>gros</td>\n",
       "    </tr>\n",
       "    <tr>\n",
       "        <td>36</td>\n",
       "        <td>Maurois</td>\n",
       "        <td>Andre</td>\n",
       "        <td>petit</td>\n",
       "    </tr>\n",
       "    <tr>\n",
       "        <td>37</td>\n",
       "        <td>Freud</td>\n",
       "        <td>Sigmund</td>\n",
       "        <td>petit</td>\n",
       "    </tr>\n",
       "    <tr>\n",
       "        <td>39</td>\n",
       "        <td>Montesquieu</td>\n",
       "        <td>None</td>\n",
       "        <td>gros</td>\n",
       "    </tr>\n",
       "    <tr>\n",
       "        <td>42</td>\n",
       "        <td>Goethe</td>\n",
       "        <td>Johann Wolfgang von</td>\n",
       "        <td>moyen</td>\n",
       "    </tr>\n",
       "    <tr>\n",
       "        <td>43</td>\n",
       "        <td>Musset</td>\n",
       "        <td>Alfred de</td>\n",
       "        <td>gros</td>\n",
       "    </tr>\n",
       "    <tr>\n",
       "        <td>46</td>\n",
       "        <td>Hugo</td>\n",
       "        <td>Victor</td>\n",
       "        <td>moyen</td>\n",
       "    </tr>\n",
       "    <tr>\n",
       "        <td>47</td>\n",
       "        <td>Gary</td>\n",
       "        <td>Romain</td>\n",
       "        <td>petit</td>\n",
       "    </tr>\n",
       "    <tr>\n",
       "        <td>51</td>\n",
       "        <td>Lafargue</td>\n",
       "        <td>Paul</td>\n",
       "        <td>petit</td>\n",
       "    </tr>\n",
       "    <tr>\n",
       "        <td>53</td>\n",
       "        <td>Lamartine</td>\n",
       "        <td>Alphonse de</td>\n",
       "        <td>gros</td>\n",
       "    </tr>\n",
       "    <tr>\n",
       "        <td>54</td>\n",
       "        <td>Aurele</td>\n",
       "        <td>Marc</td>\n",
       "        <td>petit</td>\n",
       "    </tr>\n",
       "    <tr>\n",
       "        <td>55</td>\n",
       "        <td>Michelet</td>\n",
       "        <td>Jules</td>\n",
       "        <td>gros</td>\n",
       "    </tr>\n",
       "    <tr>\n",
       "        <td>56</td>\n",
       "        <td>Nerval</td>\n",
       "        <td>Gerard de</td>\n",
       "        <td>petit</td>\n",
       "    </tr>\n",
       "    <tr>\n",
       "        <td>57</td>\n",
       "        <td>Marx</td>\n",
       "        <td>Karl</td>\n",
       "        <td>gros</td>\n",
       "    </tr>\n",
       "    <tr>\n",
       "        <td>59</td>\n",
       "        <td>Nietzsche</td>\n",
       "        <td>Friedrich</td>\n",
       "        <td>petit</td>\n",
       "    </tr>\n",
       "    <tr>\n",
       "        <td>63</td>\n",
       "        <td>Maupassant</td>\n",
       "        <td>Guy de</td>\n",
       "        <td>petit</td>\n",
       "    </tr>\n",
       "    <tr>\n",
       "        <td>64</td>\n",
       "        <td>Platon</td>\n",
       "        <td>None</td>\n",
       "        <td>gros</td>\n",
       "    </tr>\n",
       "    <tr>\n",
       "        <td>65</td>\n",
       "        <td>Pascal</td>\n",
       "        <td>Blaise</td>\n",
       "        <td>petit</td>\n",
       "    </tr>\n",
       "    <tr>\n",
       "        <td>66</td>\n",
       "        <td>Perec</td>\n",
       "        <td>Georges</td>\n",
       "        <td>gros</td>\n",
       "    </tr>\n",
       "    <tr>\n",
       "        <td>67</td>\n",
       "        <td>Nin</td>\n",
       "        <td>Anais</td>\n",
       "        <td>petit</td>\n",
       "    </tr>\n",
       "    <tr>\n",
       "        <td>68</td>\n",
       "        <td>Prevert</td>\n",
       "        <td>Jacques</td>\n",
       "        <td>gros</td>\n",
       "    </tr>\n",
       "    <tr>\n",
       "        <td>69</td>\n",
       "        <td>Queneau</td>\n",
       "        <td>Raymond</td>\n",
       "        <td>petit</td>\n",
       "    </tr>\n",
       "    <tr>\n",
       "        <td>70</td>\n",
       "        <td>Paulhan</td>\n",
       "        <td>Jean</td>\n",
       "        <td>gros</td>\n",
       "    </tr>\n",
       "    <tr>\n",
       "        <td>71</td>\n",
       "        <td>Radiguet</td>\n",
       "        <td>Raymond</td>\n",
       "        <td>petit</td>\n",
       "    </tr>\n",
       "    <tr>\n",
       "        <td>72</td>\n",
       "        <td>Rabelais</td>\n",
       "        <td>Francois</td>\n",
       "        <td>gros</td>\n",
       "    </tr>\n",
       "    <tr>\n",
       "        <td>73</td>\n",
       "        <td>Poe</td>\n",
       "        <td>Allan Edgard</td>\n",
       "        <td>moyen</td>\n",
       "    </tr>\n",
       "    <tr>\n",
       "        <td>74</td>\n",
       "        <td>Rimbaud</td>\n",
       "        <td>Arthur</td>\n",
       "        <td>petit</td>\n",
       "    </tr>\n",
       "    <tr>\n",
       "        <td>76</td>\n",
       "        <td>Racine</td>\n",
       "        <td>Jean</td>\n",
       "        <td>gros</td>\n",
       "    </tr>\n",
       "    <tr>\n",
       "        <td>77</td>\n",
       "        <td>Rousseau</td>\n",
       "        <td>Jean-Jacques</td>\n",
       "        <td>petit</td>\n",
       "    </tr>\n",
       "    <tr>\n",
       "        <td>78</td>\n",
       "        <td>Sandier</td>\n",
       "        <td>Jules</td>\n",
       "        <td>moyen</td>\n",
       "    </tr>\n",
       "    <tr>\n",
       "        <td>79</td>\n",
       "        <td>Sade</td>\n",
       "        <td>Donatien Alphonse Fran¿¿s de</td>\n",
       "        <td>gros</td>\n",
       "    </tr>\n",
       "    <tr>\n",
       "        <td>81</td>\n",
       "        <td>Sartre</td>\n",
       "        <td>Jean-Paul</td>\n",
       "        <td>gros</td>\n",
       "    </tr>\n",
       "    <tr>\n",
       "        <td>83</td>\n",
       "        <td>Sophocle</td>\n",
       "        <td>None</td>\n",
       "        <td>gros</td>\n",
       "    </tr>\n",
       "    <tr>\n",
       "        <td>84</td>\n",
       "        <td>Sue</td>\n",
       "        <td>Eugene</td>\n",
       "        <td>moyen</td>\n",
       "    </tr>\n",
       "    <tr>\n",
       "        <td>85</td>\n",
       "        <td>Segalen</td>\n",
       "        <td>Victor</td>\n",
       "        <td>petit</td>\n",
       "    </tr>\n",
       "    <tr>\n",
       "        <td>86</td>\n",
       "        <td>Saint Exupery</td>\n",
       "        <td>Antoine de</td>\n",
       "        <td>gros</td>\n",
       "    </tr>\n",
       "    <tr>\n",
       "        <td>87</td>\n",
       "        <td>Segur</td>\n",
       "        <td>Comtesse de</td>\n",
       "        <td>gros</td>\n",
       "    </tr>\n",
       "    <tr>\n",
       "        <td>88</td>\n",
       "        <td>Shakespeare</td>\n",
       "        <td>William</td>\n",
       "        <td>petit</td>\n",
       "    </tr>\n",
       "    <tr>\n",
       "        <td>89</td>\n",
       "        <td>Stendhal</td>\n",
       "        <td>None</td>\n",
       "        <td>petit</td>\n",
       "    </tr>\n",
       "    <tr>\n",
       "        <td>90</td>\n",
       "        <td>Vian</td>\n",
       "        <td>Boris</td>\n",
       "        <td>petit</td>\n",
       "    </tr>\n",
       "    <tr>\n",
       "        <td>91</td>\n",
       "        <td>Verlaine</td>\n",
       "        <td>Paul</td>\n",
       "        <td>gros</td>\n",
       "    </tr>\n",
       "    <tr>\n",
       "        <td>93</td>\n",
       "        <td>Virgile</td>\n",
       "        <td>None</td>\n",
       "        <td>gros</td>\n",
       "    </tr>\n",
       "    <tr>\n",
       "        <td>95</td>\n",
       "        <td>Zorn</td>\n",
       "        <td>Fritz</td>\n",
       "        <td>moyen</td>\n",
       "    </tr>\n",
       "    <tr>\n",
       "        <td>98</td>\n",
       "        <td>Maturin</td>\n",
       "        <td>Robert</td>\n",
       "        <td>gros</td>\n",
       "    </tr>\n",
       "    <tr>\n",
       "        <td>99</td>\n",
       "        <td>Cesar</td>\n",
       "        <td>Jules</td>\n",
       "        <td>gros</td>\n",
       "    </tr>\n",
       "    <tr>\n",
       "        <td>101</td>\n",
       "        <td>Lim</td>\n",
       "        <td>Pascal</td>\n",
       "        <td>petit</td>\n",
       "    </tr>\n",
       "</table>"
      ],
      "text/plain": [
       "[(11, 'Breton', 'Andre', 'petit'),\n",
       " (13, 'Barthes', 'Roland', 'moyen'),\n",
       " (16, 'Balzac', 'Honore de', 'moyen'),\n",
       " (18, 'Celine', 'Louis Ferdinand', 'gros'),\n",
       " (20, 'Chateaubriand', 'Francois-Rene de', 'moyen'),\n",
       " (21, 'Corbiere', 'Tristan', 'petit'),\n",
       " (23, 'Corneille', 'Pierre', 'petit'),\n",
       " (25, 'Char', 'Rene', 'petit'),\n",
       " (27, 'Dumas', 'Alexandre', 'gros'),\n",
       " (29, 'Fournier', 'Alain', 'petit'),\n",
       " (32, 'Eluard', 'Paul', 'moyen'),\n",
       " (34, 'Mauriac', 'Francois', 'petit'),\n",
       " (35, 'Fromentin', 'Eugene', 'gros'),\n",
       " (36, 'Maurois', 'Andre', 'petit'),\n",
       " (37, 'Freud', 'Sigmund', 'petit'),\n",
       " (39, 'Montesquieu', None, 'gros'),\n",
       " (42, 'Goethe', 'Johann Wolfgang von', 'moyen'),\n",
       " (43, 'Musset', 'Alfred de', 'gros'),\n",
       " (46, 'Hugo', 'Victor', 'moyen'),\n",
       " (47, 'Gary', 'Romain', 'petit'),\n",
       " (51, 'Lafargue', 'Paul', 'petit'),\n",
       " (53, 'Lamartine', 'Alphonse de', 'gros'),\n",
       " (54, 'Aurele', 'Marc', 'petit'),\n",
       " (55, 'Michelet', 'Jules', 'gros'),\n",
       " (56, 'Nerval', 'Gerard de', 'petit'),\n",
       " (57, 'Marx', 'Karl', 'gros'),\n",
       " (59, 'Nietzsche', 'Friedrich', 'petit'),\n",
       " (63, 'Maupassant', 'Guy de', 'petit'),\n",
       " (64, 'Platon', None, 'gros'),\n",
       " (65, 'Pascal', 'Blaise', 'petit'),\n",
       " (66, 'Perec', 'Georges', 'gros'),\n",
       " (67, 'Nin', 'Anais', 'petit'),\n",
       " (68, 'Prevert', 'Jacques', 'gros'),\n",
       " (69, 'Queneau', 'Raymond', 'petit'),\n",
       " (70, 'Paulhan', 'Jean', 'gros'),\n",
       " (71, 'Radiguet', 'Raymond', 'petit'),\n",
       " (72, 'Rabelais', 'Francois', 'gros'),\n",
       " (73, 'Poe', 'Allan Edgard', 'moyen'),\n",
       " (74, 'Rimbaud', 'Arthur', 'petit'),\n",
       " (76, 'Racine', 'Jean', 'gros'),\n",
       " (77, 'Rousseau', 'Jean-Jacques', 'petit'),\n",
       " (78, 'Sandier', 'Jules', 'moyen'),\n",
       " (79, 'Sade', 'Donatien Alphonse Fran¿¿s de', 'gros'),\n",
       " (81, 'Sartre', 'Jean-Paul', 'gros'),\n",
       " (83, 'Sophocle', None, 'gros'),\n",
       " (84, 'Sue', 'Eugene', 'moyen'),\n",
       " (85, 'Segalen', 'Victor', 'petit'),\n",
       " (86, 'Saint Exupery', 'Antoine de', 'gros'),\n",
       " (87, 'Segur', 'Comtesse de', 'gros'),\n",
       " (88, 'Shakespeare', 'William', 'petit'),\n",
       " (89, 'Stendhal', None, 'petit'),\n",
       " (90, 'Vian', 'Boris', 'petit'),\n",
       " (91, 'Verlaine', 'Paul', 'gros'),\n",
       " (93, 'Virgile', None, 'gros'),\n",
       " (95, 'Zorn', 'Fritz', 'moyen'),\n",
       " (98, 'Maturin', 'Robert', 'gros'),\n",
       " (99, 'Cesar', 'Jules', 'gros'),\n",
       " (101, 'Lim', 'Pascal', 'petit')]"
      ]
     },
     "execution_count": 173,
     "metadata": {},
     "output_type": "execute_result"
    }
   ],
   "source": [
    "# Test\n",
    "%sql SELECT * FROM RBA"
   ]
  },
  {
   "cell_type": "markdown",
   "metadata": {},
   "source": [
    "#### Exercise 2.6\n",
    "\n",
    "Compare the content of _table_ \"**RBA**\" and the _view_ \"**buveurs_asec**\". What differences do you see? Explain"
   ]
  },
  {
   "cell_type": "markdown",
   "metadata": {},
   "source": [
    "> **Answer:** Since we modified RBA and not the tables from which it was created, the view still shows the unmodified table. So in RBA we have one more record."
   ]
  },
  {
   "cell_type": "code",
   "execution_count": null,
   "metadata": {},
   "outputs": [],
   "source": []
  },
  {
   "cell_type": "markdown",
   "metadata": {},
   "source": [
    "___\n",
    "# PART III: Design the database schema for posts in a Social Network\n",
    "\n",
    "In this section your task is to design the database schema for a social network app of a new startup:\n",
    "\n",
    "The new social network will contain users, where each user will have a name, a nickname, an email, date of birth, and an address (Street, City, State, Country, Postal Code). Users can be friends of other users, and can publish posts. Each post can contain a text, date and attachment. Posts can be either original posts or replies so the app needs to handle both scenarios. When users log in, the app needs to display the posts of their friends.\n",
    "\n",
    "**Note:** You can create diagrams of your proposal and insert them as images into this notebook."
   ]
  },
  {
   "cell_type": "markdown",
   "metadata": {},
   "source": [
    "#### Exercise 3.1\n",
    "\n",
    "Write and explain the design of the relations of your database"
   ]
  },
  {
   "cell_type": "markdown",
   "metadata": {},
   "source": [
    "> **Answer:**  \n",
    "I propose to make 4 relations: \n",
    "* Users(id, name, nickname, email, date of birth, street, city, state, country, postal code) \n",
    "* Friendship(smaller_user_id, bigger_id) \n",
    "* Posts(post_id, text, date, attachment, post_type) \n",
    "* Publish(publisher_id, post_id) \n",
    "\n",
    ">Where I consider each user gives only one email address and only one address. Id is an primary key attribut that is assigned to a user when he enrolls. The relation Friendship represents a many-to-many relationship set where we insert smaller user id in the first column and the bigger one in the second one to avoid the redundancies."
   ]
  },
  {
   "cell_type": "markdown",
   "metadata": {},
   "source": [
    "#### Exercise 3.2\n",
    "\n",
    "Write a view to retrieve the posts to display when a user logs in. Consider that some users may have a lot of friends and you need to limit the number of post to display. How would you select relevant posts to display first? What kind of information would you use/add in the database for this purpose? Explain your answer.\n",
    "\n",
    "__Note:__ Limiting the number of posts just by count is too simplistic, the user could be missing something interesting to him/her."
   ]
  },
  {
   "cell_type": "markdown",
   "metadata": {},
   "source": [
    "> **Answer:** <br\\>\n",
    "CREATE VIEW display_view AS <br\\>\n",
    "SELECT Users.id AS id, Posts.post_id <br\\>\n",
    "FROM Users, Posts, Publish <br\\>\n",
    "WHERE Publish.post_id = Posts.post_id AND Publish.publisher_id <br\\>\n",
    "IN (SELECT Friendship.smaller_user_id FROM Friendship WHERE Friendship.bigger_id = Users.id) <br\\>\n",
    "OR IN (SELECT Friendship.bigger_user_id FROM Friendship WHERE Friendship.smaller_id = Users.id) \n",
    "\n",
    ">To select relevant posts to display first, I propose to (1) add the number that one post has been clicked or reposted by other users as a new attribute in the relation Posts. (2) add the number of reactions (like replying and like) between two users in the relation Friendship. I think this kind of information can help us know the importance of a post to a specific user, we can then display to him the most relevant posts first."
   ]
  },
  {
   "cell_type": "code",
   "execution_count": null,
   "metadata": {},
   "outputs": [],
   "source": []
  },
  {
   "cell_type": "code",
   "execution_count": null,
   "metadata": {},
   "outputs": [],
   "source": []
  }
 ],
 "metadata": {
  "anaconda-cloud": {},
  "kernelspec": {
   "display_name": "Python 3",
   "language": "python",
   "name": "python3"
  },
  "language_info": {
   "codemirror_mode": {
    "name": "ipython",
    "version": 3
   },
   "file_extension": ".py",
   "mimetype": "text/x-python",
   "name": "python",
   "nbconvert_exporter": "python",
   "pygments_lexer": "ipython3",
   "version": "3.6.5"
  }
 },
 "nbformat": 4,
 "nbformat_minor": 2
}
