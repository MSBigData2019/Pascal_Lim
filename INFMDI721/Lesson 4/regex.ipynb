{
 "cells": [
  {
   "cell_type": "markdown",
   "metadata": {},
   "source": [
    "# <center> REGEX </center>"
   ]
  },
  {
   "cell_type": "code",
   "execution_count": 1,
   "metadata": {
    "ExecuteTime": {
     "end_time": "2018-11-25T15:31:49.161692Z",
     "start_time": "2018-11-25T15:31:49.157728Z"
    }
   },
   "outputs": [],
   "source": [
    "import re"
   ]
  },
  {
   "cell_type": "code",
   "execution_count": 5,
   "metadata": {
    "ExecuteTime": {
     "end_time": "2018-11-25T15:32:24.411297Z",
     "start_time": "2018-11-25T15:32:24.407342Z"
    }
   },
   "outputs": [
    {
     "name": "stdout",
     "output_type": "stream",
     "text": [
      "<_sre.SRE_Match object; span=(0, 4), match='GRIS'>\n"
     ]
    }
   ],
   "source": [
    "print(re.match(r\"GR(.)?S\", \"GRIS\"))"
   ]
  },
  {
   "cell_type": "code",
   "execution_count": 15,
   "metadata": {
    "ExecuteTime": {
     "end_time": "2018-11-25T16:24:01.481921Z",
     "start_time": "2018-11-25T16:24:01.476909Z"
    }
   },
   "outputs": [
    {
     "name": "stdout",
     "output_type": "stream",
     "text": [
      "Ce mail : olivier@mailbidon.com est valide\n",
      "Erreur ce mail : olivier@mailbidon.ca est non valide\n",
      "Ce mail : 8@mailbidon.com est valide\n",
      "Erreur ce mail : @mailbidon.com est non valide\n",
      "Erreur ce mail : olivier@mailbidon est non valide\n"
     ]
    }
   ],
   "source": [
    "mails = [\"olivier@mailbidon.com\", \"olivier@mailbidon.ca\", \"8@mailbidon.com\", \"@mailbidon.com\", \"olivier@mailbidon\"]\n",
    "regex = re.compile(r\"^[a-z0-9._-]+@[a-z0-9._-]+\\.(com|fr)+\")\n",
    "for mail in mails:\n",
    "    if regex.match(mail) is not None:\n",
    "        print(\"Ce mail : %s est valide\" % mail)   \n",
    "    else:\n",
    "        print(\"Erreur ce mail : %s est non valide\" % mail)"
   ]
  },
  {
   "cell_type": "code",
   "execution_count": null,
   "metadata": {},
   "outputs": [],
   "source": []
  }
 ],
 "metadata": {
  "kernelspec": {
   "display_name": "Python 3",
   "language": "python",
   "name": "python3"
  },
  "language_info": {
   "codemirror_mode": {
    "name": "ipython",
    "version": 3
   },
   "file_extension": ".py",
   "mimetype": "text/x-python",
   "name": "python",
   "nbconvert_exporter": "python",
   "pygments_lexer": "ipython3",
   "version": "3.6.5"
  }
 },
 "nbformat": 4,
 "nbformat_minor": 2
}
