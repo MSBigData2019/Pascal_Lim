{
 "cells": [
  {
   "cell_type": "code",
   "execution_count": 31,
   "metadata": {
    "scrolled": true
   },
   "outputs": [
    {
     "name": "stdout",
     "output_type": "stream",
     "text": [
      "    codeCIS                           denomination\n",
      "0  66643680   PARACETAMOL ISOMED 1000 mg, comprimé\n",
      "1  64503085  PARACETAMOL CRISTERS 500 mg, comprimé\n",
      "2  61858273       PARACETAMOL MYLAN 500 mg, gélule\n",
      "3  67445776       PARACETAMOL ZYDUS 500 mg, gélule\n",
      "4  66661454  PARACETAMOL BIOGARAN 500 mg, comprimé\n",
      "5  62909621  PARACETAMOL ZENTIVA 1000 mg, comprimé\n",
      "6  69159193        PARACETAMOL ALTER 1 g, comprimé\n",
      "7  66400810   PARACETAMOL ZENTIVA 500 mg, comprimé\n",
      "8  69411153    PARACETAMOL CRISTERS 500 mg, gélule\n",
      "9  68961094        PARACETAMOL EG 500 mg, comprimé\n"
     ]
    }
   ],
   "source": [
    "import requests\n",
    "from bs4 import BeautifulSoup\n",
    "import pandas as pd\n",
    "import re\n",
    "\n",
    "#Paramétrage des variables\n",
    "website = \"https://www.open-medicaments.fr/api/v1/medicaments?query=parac%C3%A9tamol&api_key=paracetamol\"\n",
    "\n",
    "def _handle_request_result_and_build_soup(request_result):\n",
    "    if request_result.status_code == 200:\n",
    "        html_doc = request_result.content\n",
    "        soup = BeautifulSoup(html_doc, \"html.parser\")\n",
    "        return soup\n",
    "\n",
    "def get_medicines(url_page):\n",
    "    get_req = requests.get(url_page).json()\n",
    "    print(pd.DataFrame(get_req).head(10))\n",
    "\n",
    "def reformat_req(longname):\n",
    "    position = longname.find(\"(\")\n",
    "    return(longname[:position - 1])\n",
    "\n",
    "get_medicines(website)"
   ]
  },
  {
   "cell_type": "code",
   "execution_count": 32,
   "metadata": {},
   "outputs": [
    {
     "data": {
      "text/plain": [
       "['Words', 'words', 'words', '']"
      ]
     },
     "execution_count": 32,
     "metadata": {},
     "output_type": "execute_result"
    }
   ],
   "source": [
    "re.split('\\W+', 'Words, words, words.')"
   ]
  },
  {
   "cell_type": "code",
   "execution_count": 38,
   "metadata": {},
   "outputs": [
    {
     "data": {
      "text/plain": [
       "['PARACETAMOL ', 'ISOMED ', '1000 ', ' ']"
      ]
     },
     "execution_count": 38,
     "metadata": {},
     "output_type": "execute_result"
    }
   ],
   "source": [
    "    string = \"PARACETAMOL ISOMED 1000 mg, comprimé\"\n",
    "    reg = r'(\\w*\\s)'\n",
    "    re.findall(reg, string)"
   ]
  },
  {
   "cell_type": "code",
   "execution_count": null,
   "metadata": {},
   "outputs": [],
   "source": []
  }
 ],
 "metadata": {
  "kernelspec": {
   "display_name": "Python 3",
   "language": "python",
   "name": "python3"
  },
  "language_info": {
   "codemirror_mode": {
    "name": "ipython",
    "version": 3
   },
   "file_extension": ".py",
   "mimetype": "text/x-python",
   "name": "python",
   "nbconvert_exporter": "python",
   "pygments_lexer": "ipython3",
   "version": "3.6.5"
  }
 },
 "nbformat": 4,
 "nbformat_minor": 2
}
